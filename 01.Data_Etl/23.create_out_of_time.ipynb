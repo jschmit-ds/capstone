{
 "cells": [
  {
   "cell_type": "markdown",
   "id": "1dbb9954-b5d1-47ae-98bc-5bdb5c900258",
   "metadata": {},
   "source": [
    "# Create a Out of Time Dataset For Use In a Dashboard\n",
    "* October 2022.\n"
   ]
  },
  {
   "cell_type": "code",
   "execution_count": null,
   "id": "6cb85195-6cc8-460f-8ad7-fea601042f4e",
   "metadata": {},
   "outputs": [],
   "source": [
    "import pandas as pd\n",
    "import numpy as np\n",
    "\n",
    "import datetime\n",
    "from datetime import datetime\n",
    "\n",
    "import boto3\n",
    "import awswrangler\n",
    "# set name of S3 bucket\n",
    "s3_bucket = 'traffic-data-bucket'\n",
    "\n",
    "import h3\n",
    "\n",
    "import pickle\n"
   ]
  },
  {
   "cell_type": "code",
   "execution_count": null,
   "id": "2020c6da-397f-464c-ba23-36986d07869a",
   "metadata": {},
   "outputs": [],
   "source": [
    "from aws_secrets import aws_access_key_id, aws_secret_access_key, aws_session_token\n",
    "\n",
    "my_session = boto3.Session(\n",
    "    aws_access_key_id=aws_access_key_id,\n",
    "    aws_secret_access_key=aws_secret_access_key,\n",
    "    aws_session_token = aws_session_token\n",
    "\n",
    ")"
   ]
  },
  {
   "cell_type": "markdown",
   "id": "a4bcc48e-344b-4499-96b5-2adc95475822",
   "metadata": {},
   "source": [
    "## 1. Import datasets\n",
    "### 1.1 Base data\n"
   ]
  },
  {
   "cell_type": "code",
   "execution_count": null,
   "id": "bf1813a2-223d-41ee-baa8-e9630ccacf29",
   "metadata": {},
   "outputs": [],
   "source": [
    "base_df = awswrangler.s3.read_csv(path = f's3://{s3_bucket}/joined_data/base_location_data.csv',\n",
    "                       boto3_session=my_session, use_threads=True\n",
    "                       )"
   ]
  },
  {
   "cell_type": "code",
   "execution_count": null,
   "id": "80eaa37a-704d-429e-a4e1-cd9efa646f3f",
   "metadata": {},
   "outputs": [],
   "source": [
    "base_df = base_df[base_df.valid_accident_location_filter == True]\n",
    "base_df.shape"
   ]
  },
  {
   "cell_type": "code",
   "execution_count": null,
   "id": "843edebf-1d9e-4159-aa16-f71b6ba49be2",
   "metadata": {},
   "outputs": [],
   "source": [
    "keep_cols_list = ['hex_id', \n",
    "                  'node_street_count', \n",
    "                  'node_stop', \n",
    "                  'node_traffic_signals',\n",
    "                  'CITY_NAME', \n",
    "                  'edge_speed_kph_max',\n",
    "                  'edge_speek_kph_min', \n",
    "                  'edge_lanes_max', \n",
    "                  'edge_motorway_id', \n",
    "                  'edge_motorway_link_id', \n",
    "                  'edge_living_street_id',\n",
    "                  'edge_bridge_id', \n",
    "                  'edge_oneway_id', \n",
    "                  'edge_tunnel_id',\n",
    "                 ]"
   ]
  },
  {
   "cell_type": "code",
   "execution_count": null,
   "id": "00abde9d-375a-43da-95fd-16ca21345a26",
   "metadata": {},
   "outputs": [],
   "source": [
    "base_df = base_df[keep_cols_list]"
   ]
  },
  {
   "cell_type": "code",
   "execution_count": null,
   "id": "01be23cf-e98d-4578-bafe-11d19893176d",
   "metadata": {},
   "outputs": [],
   "source": [
    "base_df['geometry'] = base_df['hex_id'].apply(lambda x: h3.h3_to_geo_boundary(h=x, geo_json=True))\n",
    "base_df.sample()"
   ]
  },
  {
   "cell_type": "markdown",
   "id": "0601d8c2-056a-49e3-b2f6-91cab7f510e1",
   "metadata": {},
   "source": [
    "### 1.2. Prior Years Accident Information\n",
    "Various stats regarding collision history for the hexegon and its neighbors"
   ]
  },
  {
   "cell_type": "code",
   "execution_count": null,
   "id": "0029eb13-18e9-4fa8-9266-23cfb775e4df",
   "metadata": {},
   "outputs": [],
   "source": [
    "# name of folder in S3 containing joined data\n",
    "raw_path_dir = 'joined_data'"
   ]
  },
  {
   "cell_type": "code",
   "execution_count": null,
   "id": "140d4313-ecfd-4eab-8cf3-4725d33a1e64",
   "metadata": {},
   "outputs": [],
   "source": [
    "prior_collision_hist_dict = {}\n",
    "coll_year_dict = [2021, 2022]\n",
    "\n",
    "for key in coll_year_dict:\n",
    "    print(key)\n",
    "    #base_dict[key] = pd.read_csv(root / 'X.data' / 'joined_data' / ('base_location_' + str(key) + '_collision_data.csv'))\n",
    "    \n",
    "    raw_path = f\"s3://{s3_bucket}/{raw_path_dir}/{'base_location_' + str(key) + '_collision_data.csv'}\"\n",
    "    prior_collision_hist_dict[key] = awswrangler.s3.read_csv(path = raw_path, boto3_session=my_session, use_threads=True)\n"
   ]
  },
  {
   "cell_type": "code",
   "execution_count": null,
   "id": "d3b48136-f012-4e27-a3e5-cdf9fff723db",
   "metadata": {},
   "outputs": [],
   "source": [
    "for key in coll_year_dict:\n",
    "    temp_df = prior_collision_hist_dict[key]\n",
    "    temp_df['collision_year'] = key\n",
    "    prior_collision_hist_dict[key] = temp_df"
   ]
  },
  {
   "cell_type": "code",
   "execution_count": null,
   "id": "640a1345-c611-4227-b934-bc569934a9ce",
   "metadata": {},
   "outputs": [],
   "source": [
    "#stack the dictionary of pd frames\n",
    "prior_collision_hist_df = pd.concat(prior_collision_hist_dict.values(), ignore_index=True)"
   ]
  },
  {
   "cell_type": "code",
   "execution_count": null,
   "id": "25c9f3f7-2932-4834-a189-276489a338e2",
   "metadata": {},
   "outputs": [],
   "source": [
    "prior_collision_hist_df.sample(3)"
   ]
  },
  {
   "cell_type": "markdown",
   "id": "d656cc08-ca24-4dfd-b256-cae8fc812b4f",
   "metadata": {},
   "source": [
    "### 1.4. Weather data\n",
    "Weather data for LA county."
   ]
  },
  {
   "cell_type": "code",
   "execution_count": null,
   "id": "b192cb13-4b67-4894-91fd-10a34301c022",
   "metadata": {
    "tags": []
   },
   "outputs": [],
   "source": [
    "weather_df = awswrangler.s3.read_csv(path = f's3://{s3_bucket}/weather/LA_weather_data_updated.csv', boto3_session=my_session, use_threads=True)"
   ]
  },
  {
   "cell_type": "code",
   "execution_count": null,
   "id": "39567e03-32be-48a5-affa-f9103a8519a4",
   "metadata": {},
   "outputs": [],
   "source": [
    "weather_df.sample(2)"
   ]
  },
  {
   "cell_type": "markdown",
   "id": "803e65f6-28c8-47c3-b2a9-eda3d039244f",
   "metadata": {},
   "source": [
    "### 1.5. Amenities data\n",
    "Open Streets information for counts\n",
    "* Restaurants, bars, colleges and schools"
   ]
  },
  {
   "cell_type": "code",
   "execution_count": null,
   "id": "236ba9f6-0445-4861-8f38-5d159c66d7eb",
   "metadata": {},
   "outputs": [],
   "source": [
    "ammenities_df = awswrangler.s3.read_csv(path = f's3://{s3_bucket}/nodes_and_edges/la_county_amenities/la_county_ammenities.csv', boto3_session=my_session, use_threads=True)"
   ]
  },
  {
   "cell_type": "code",
   "execution_count": null,
   "id": "0a7b5721-0909-4f2d-b1e8-32d1df5bdcf0",
   "metadata": {},
   "outputs": [],
   "source": [
    "ammenities_df.sample(2)"
   ]
  },
  {
   "cell_type": "markdown",
   "id": "1e656dbd-4db0-4958-8c42-8c894d83784e",
   "metadata": {},
   "source": [
    "## 2. Join datasets\n",
    "* base data - join on hex id\n",
    "* collision history - join on hex id, collision year\n"
   ]
  },
  {
   "cell_type": "code",
   "execution_count": null,
   "id": "5719021f-edc6-48e9-9619-a7ca8e6f1202",
   "metadata": {},
   "outputs": [],
   "source": [
    "base_df['ttv_split'] = 'Validation_Out_Of_Time'"
   ]
  },
  {
   "cell_type": "code",
   "execution_count": null,
   "id": "1c107e0e-f095-46eb-aefd-b70fc930a5ae",
   "metadata": {},
   "outputs": [],
   "source": [
    "base_df['collision_year'] = 2022"
   ]
  },
  {
   "cell_type": "code",
   "execution_count": null,
   "id": "bfa8a76d-e291-4fb7-baec-59e8db6f5070",
   "metadata": {},
   "outputs": [],
   "source": [
    "joined_df1 = base_df.merge(prior_collision_hist_df, on = ['hex_id', 'collision_year'], how = 'left')"
   ]
  },
  {
   "cell_type": "code",
   "execution_count": null,
   "id": "63199a3b-ea82-4203-b489-e1983a5285ec",
   "metadata": {},
   "outputs": [],
   "source": [
    "#should have the same number of rows\n",
    "joined_df1.shape[0] == base_df.shape[0]"
   ]
  },
  {
   "cell_type": "code",
   "execution_count": null,
   "id": "3d309425-1e58-420d-b81e-56a5c437b00e",
   "metadata": {},
   "outputs": [],
   "source": [
    "joined_df1"
   ]
  },
  {
   "cell_type": "code",
   "execution_count": null,
   "id": "c408e73b-2d62-4524-abaa-af6a0f15b6b8",
   "metadata": {},
   "outputs": [],
   "source": [
    "for i in range(274, 274+31):\n",
    "    print(i, end=\" \")"
   ]
  },
  {
   "cell_type": "markdown",
   "id": "f5ab3be7-074b-4bfb-aaad-568fac2e4ed2",
   "metadata": {},
   "source": [
    "#### Create a record for every hour and day in Feb and January"
   ]
  },
  {
   "cell_type": "code",
   "execution_count": null,
   "id": "a6eef130-2c9f-4ecf-b432-2629a2763608",
   "metadata": {},
   "outputs": [],
   "source": [
    "def get_iterations(doy_start, doy_end):\n",
    "    doy_period = \"\"\n",
    "    for i in range(doy_start, doy_end):\n",
    "        #print(i)\n",
    "        doy_period = doy_period + \" \" +str(i)\n",
    "    doy_period = doy_period.strip()\n",
    "    return(doy_period)"
   ]
  },
  {
   "cell_type": "code",
   "execution_count": null,
   "id": "35e3a980-e239-4533-acd0-be1b879e1af4",
   "metadata": {},
   "outputs": [],
   "source": [
    "joined_df1['doy'] = 0\n",
    "#oct 1 is the 274th day of the year.\n",
    "joined_df1['doy'] = joined_df1.doy.apply(lambda x: get_iterations(274, 274+31))\n",
    "joined_df1['doy'] = joined_df1['doy'].str.split()\n",
    "joined_df1 = joined_df1.explode('doy')\n",
    "joined_df1['doy'] = joined_df1['doy'].map(int)\n",
    "joined_df1['doy'] = joined_df1['doy']\n",
    "joined_df1.sample(5)"
   ]
  },
  {
   "cell_type": "code",
   "execution_count": null,
   "id": "d15823e1-1d64-4b02-abdb-93e0758fd656",
   "metadata": {},
   "outputs": [],
   "source": [
    "joined_df1['collision_hour'] = joined_df1.doy.apply(lambda x: get_iterations(0,24))\n",
    "joined_df1['collision_hour'] = joined_df1['collision_hour'].str.split()\n",
    "joined_df1 = joined_df1.explode('collision_hour')\n",
    "joined_df1['collision_hour'] = joined_df1['collision_hour'].map(str)\n",
    "joined_df1.sample(5)"
   ]
  },
  {
   "cell_type": "code",
   "execution_count": null,
   "id": "8837558f-e708-4a19-8b06-8c4b2c1ae69d",
   "metadata": {},
   "outputs": [],
   "source": [
    "joined_df1.collision_hour.unique()"
   ]
  },
  {
   "cell_type": "code",
   "execution_count": null,
   "id": "b65c6a14-20c2-4a07-8eb9-64eb00858025",
   "metadata": {},
   "outputs": [],
   "source": [
    "joined_df1.doy.unique()"
   ]
  },
  {
   "cell_type": "code",
   "execution_count": null,
   "id": "6fd711d8-4a85-487e-858b-b42291646596",
   "metadata": {},
   "outputs": [],
   "source": [
    "joined_df1['collision_hour_grp'] = '1.6AM_to_9AM;Morning Commute'\n",
    "joined_df1.loc[joined_df1['collision_hour'].isin(['10', '11', '12', '13']), 'collision_hour_grp'] = '2.10AM_to_1PM;Late Morning'\n",
    "joined_df1.loc[joined_df1['collision_hour'].isin(['14', '15', '16', '17']), 'collision_hour_grp'] = '3.2PM_to_5PM;Afternoon'\n",
    "joined_df1.loc[joined_df1['collision_hour'].isin(['18', '19', '20', '21']), 'collision_hour_grp'] = '4.6PM_to_9PM;Evening Commute'\n",
    "joined_df1.loc[joined_df1['collision_hour'].isin(['22', '23', '0', '1']), 'collision_hour_grp'] = '5.10PM_to_1AM;Night'\n",
    "joined_df1.loc[joined_df1['collision_hour'].isin(['2', '3', '4', '5']), 'collision_hour_grp'] = '6.2AM_to_5AM;Early Morning'"
   ]
  },
  {
   "cell_type": "code",
   "execution_count": null,
   "id": "5734acc9-454a-44a2-9d96-88a305bba7f0",
   "metadata": {},
   "outputs": [],
   "source": [
    "#check. \n",
    "joined_temp =joined_df1.copy()\n",
    "joined_temp.collision_hour = joined_temp.collision_hour.map(int)\n",
    "#check the output to make sure\n",
    "display(joined_temp.groupby(['collision_hour', 'collision_hour_grp']).size().reset_index().sort_values('collision_hour'))\n",
    "del joined_temp"
   ]
  },
  {
   "cell_type": "code",
   "execution_count": null,
   "id": "325b9afa-3fe7-4465-850b-0cd86c556369",
   "metadata": {},
   "outputs": [],
   "source": [
    "joined_df1['Yd'] = joined_df1['collision_year'].map(str) + joined_df1['doy'].map(str)"
   ]
  },
  {
   "cell_type": "code",
   "execution_count": null,
   "id": "cc6dec27-c251-4c04-9721-3ed8425d3aed",
   "metadata": {},
   "outputs": [],
   "source": [
    "joined_df1['collision_date'] = pd.to_datetime(joined_df1['Yd'].map(int), format='%Y%j')"
   ]
  },
  {
   "cell_type": "code",
   "execution_count": null,
   "id": "bd2a89f7-8526-42b3-ab42-5a319d1ed359",
   "metadata": {},
   "outputs": [],
   "source": [
    "joined_df1['collision_dayofweek'] = joined_df1['collision_date'].dt.dayofweek\n",
    "joined_df1['collision_month'] = joined_df1['collision_date'].dt.month\n",
    "joined_df1['collision_dayofmonth'] = joined_df1['collision_date'].dt.day"
   ]
  },
  {
   "cell_type": "code",
   "execution_count": null,
   "id": "81088836-0fac-47d0-9bfd-354a28bcac67",
   "metadata": {},
   "outputs": [],
   "source": [
    "weather_df['date'] = pd.to_datetime(weather_df['date'])\n",
    "weather_df.sample(5)"
   ]
  },
  {
   "cell_type": "code",
   "execution_count": null,
   "id": "b0cd0ae8-0f1b-4021-904d-c391775781f8",
   "metadata": {},
   "outputs": [],
   "source": [
    "weather_df['month'] = weather_df['date'].dt.month\n",
    "weather_df['dayofmonth'] = weather_df['date'].dt.day\n",
    "weather_df_grp = weather_df.groupby(['month', 'dayofmonth'])['awnd','prcp','tavg','tmax','tmin','wdf2'].mean()\n",
    "weather_df_grp = weather_df_grp.reset_index()"
   ]
  },
  {
   "cell_type": "code",
   "execution_count": null,
   "id": "be3e09bd-63f9-4800-99ec-af3ab3a5d185",
   "metadata": {},
   "outputs": [],
   "source": [
    "#make sure they are the same format\n",
    "joined_df1['collision_day'] = pd.to_datetime(joined_df1['collision_date']).dt.day\n",
    "joined_df2 = joined_df1.merge(weather_df_grp[weather_df_grp.month == 10], \n",
    "                              left_on = ['collision_month', 'collision_day'], \n",
    "                              right_on = ['month', 'dayofmonth'], how = 'left')"
   ]
  },
  {
   "cell_type": "code",
   "execution_count": null,
   "id": "1f08adca-d121-4ea8-8bd2-c969ac9d9a56",
   "metadata": {},
   "outputs": [],
   "source": [
    "with pd.option_context(\"display.max_columns\", 150):\n",
    "    display(joined_df2.sample(5))"
   ]
  },
  {
   "cell_type": "code",
   "execution_count": null,
   "id": "7cace494-1b84-4515-abd1-b427fcc6af3d",
   "metadata": {},
   "outputs": [],
   "source": [
    "#should have the same number of rows\n",
    "joined_df2.shape[0] == joined_df1.shape[0]"
   ]
  },
  {
   "cell_type": "code",
   "execution_count": null,
   "id": "2a418d42-57e8-4bfa-92ba-6b6040ee8035",
   "metadata": {},
   "outputs": [],
   "source": [
    "joined_df3 = joined_df2.merge(ammenities_df, on = ['hex_id'], how = 'left')"
   ]
  },
  {
   "cell_type": "code",
   "execution_count": null,
   "id": "a29dc764-d23a-41ee-b1da-7203885bcd75",
   "metadata": {},
   "outputs": [],
   "source": [
    "#should have the same number of rows\n",
    "joined_df2.shape[0] == joined_df3.shape[0]"
   ]
  },
  {
   "cell_type": "markdown",
   "id": "ef2247e1-524a-42ec-8633-cc4d46502aed",
   "metadata": {},
   "source": [
    "## 3 Clean up the columns to reflect model script"
   ]
  },
  {
   "cell_type": "code",
   "execution_count": null,
   "id": "b8408356-ff20-477f-97cd-edcefc08ebd6",
   "metadata": {},
   "outputs": [],
   "source": [
    "joined_df3.prev1_yr_coll_cnt = joined_df3.prev1_yr_coll_cnt.fillna(0)\n",
    "joined_df3.prev2_yr_coll_cnt = joined_df3.prev2_yr_coll_cnt.fillna(0)\n",
    "joined_df3.prev1_yr_coll_neighbor1 = joined_df3.prev1_yr_coll_neighbor1.fillna(0)\n",
    "joined_df3.prev1_yr_coll_neighbor2 = joined_df3.prev1_yr_coll_neighbor2.fillna(0)\n",
    "joined_df3.prev2_yr_coll_neighbor1 = joined_df3.prev2_yr_coll_neighbor1.fillna(0)\n",
    "joined_df3.prev2_yr_coll_neighbor2 = joined_df3.prev2_yr_coll_neighbor2.fillna(0)\n",
    "joined_df3.amenities_restaurant_cnt = joined_df3.amenities_restaurant_cnt.fillna(0)\n",
    "joined_df3.amenities_bar_cnt = joined_df3.amenities_bar_cnt.fillna(0)\n",
    "joined_df3.amenities_school_cnt = joined_df3.amenities_school_cnt.fillna(0)\n",
    "joined_df3.amenities_college_cnt = joined_df3.amenities_college_cnt.fillna(0)\n"
   ]
  },
  {
   "cell_type": "code",
   "execution_count": null,
   "id": "ef9803dd-b227-49a5-bee4-121ab181e24b",
   "metadata": {},
   "outputs": [],
   "source": [
    "joined_df3.rename(columns = {'awnd':'noaa_wind_speed' \n",
    "                                    ,'prcp':'noaa_precipitation'\n",
    "                                    ,'tavg':'noaa_temperature_average'\n",
    "                                    ,'tmax':'noaa_temperature_max'\n",
    "                                    ,'tmin':'noaa_temperature_min'\n",
    "                                    ,'wdf2':'noaa_wind_direction'\n",
    "                                    ,'CITY_NAME':'la_data_city_name'\n",
    "                                    ,'edge_motorway_id':'edge_motorway_flag' \n",
    "                                    ,'edge_motorway_link_id':'edge_motorway_link_flag'\n",
    "                                    ,'edge_living_street_id':'edge_living_street_flag'\n",
    "                                    ,'edge_bridge_id':'edge_bridge_flag' \n",
    "                                    ,'edge_oneway_id':'edge_oneway_flag'\n",
    "                                    ,'edge_tunnel_id':'edge_tunnel_flag'\n",
    "                                    ,'drv_holiday_id':'drv_holiday_flag'\n",
    "                                    ,'accident_count':'target'\n",
    "                                   }, inplace = True)"
   ]
  },
  {
   "cell_type": "code",
   "execution_count": null,
   "id": "5b1374e0-721b-4c59-a1cc-f7068ed7cea4",
   "metadata": {},
   "outputs": [],
   "source": [
    "max_edge_mode = joined_df3.edge_lanes_max.value_counts().index[0]\n",
    "max_edge_mode"
   ]
  },
  {
   "cell_type": "code",
   "execution_count": null,
   "id": "a8407e1f-4e22-40d7-ad41-dc1f988c42e3",
   "metadata": {},
   "outputs": [],
   "source": [
    "joined_df3['drv_edge_lanes_max_imputed_flag'] = joined_df3['edge_lanes_max'].isna()"
   ]
  },
  {
   "cell_type": "code",
   "execution_count": null,
   "id": "01948ce0-e0c0-4245-8bfe-52f5fc0a5ff2",
   "metadata": {},
   "outputs": [],
   "source": [
    "joined_df3['drv_edge_lanes_max_imputed_flag'].value_counts()"
   ]
  },
  {
   "cell_type": "code",
   "execution_count": null,
   "id": "8fe5d107-7430-4129-96c8-c3cd67e0b0b2",
   "metadata": {},
   "outputs": [],
   "source": [
    "joined_df3.edge_lanes_max = joined_df3.edge_lanes_max.fillna(max_edge_mode)"
   ]
  },
  {
   "cell_type": "markdown",
   "id": "10a2bc2b-a3a1-4a7c-b05d-1f61664c5787",
   "metadata": {},
   "source": [
    "### Make a holiday indicator"
   ]
  },
  {
   "cell_type": "code",
   "execution_count": null,
   "id": "007c141a-b428-47ba-87dd-de1bbcabe24c",
   "metadata": {},
   "outputs": [],
   "source": [
    "from pandas.tseries.holiday import USFederalHolidayCalendar as calendar\n",
    "import datetime\n",
    "\n",
    "cal = calendar()\n",
    "dr = pd.date_range(start='2014-01-01', end='2020-12-31')\n",
    "df = pd.DataFrame()\n",
    "df['Date'] = dr\n",
    "\n",
    "cal = calendar()\n",
    "holidays = cal.holidays(start=dr.min(), end=dr.max())\n",
    "\n",
    "holiday_list = list()\n",
    "\n",
    "for holiday in holidays:\n",
    "    \n",
    "    holiday = holiday.date()\n",
    "\n",
    "    date_plus1 = holiday + datetime.timedelta(days=1)\n",
    "    date_minus1 = holiday + datetime.timedelta(days=-1)\n",
    "    \n",
    "    holiday_list.append(date_minus1.strftime('%Y-%m-%d'))\n",
    "    holiday_list.append(holiday.strftime('%Y-%m-%d'))\n",
    "    holiday_list.append(date_plus1.strftime('%Y-%m-%d'))\n",
    "    holiday_list.append(date_minus1.strftime('%Y-%m-%d'))\n",
    "    \n",
    "holiday_list[0:10]\n"
   ]
  },
  {
   "cell_type": "code",
   "execution_count": null,
   "id": "776135c0-e9d9-4029-a2f1-66111808f258",
   "metadata": {},
   "outputs": [],
   "source": [
    "joined_df3['collision_date'] = joined_df3['collision_date'].map(str)"
   ]
  },
  {
   "cell_type": "code",
   "execution_count": null,
   "id": "fd372926-466d-49f6-b131-d43950eb25a0",
   "metadata": {},
   "outputs": [],
   "source": [
    "joined_df3['drv_holiday_flag'] = joined_df3['collision_date'].isin(holiday_list)"
   ]
  },
  {
   "cell_type": "code",
   "execution_count": null,
   "id": "ea6851f9-ccb2-4891-b6b8-15aae14761f2",
   "metadata": {},
   "outputs": [],
   "source": [
    "#update true false id columns\n",
    "for col in joined_df3.columns:\n",
    "    if (col.endswith('_flag')):\n",
    "        joined_df3.loc[joined_df3[col] == True, col] = 1\n",
    "        joined_df3.loc[joined_df3[col] == False, col] = 0\n",
    "        joined_df3[col] = joined_df3[col].astype('int')"
   ]
  },
  {
   "cell_type": "code",
   "execution_count": null,
   "id": "5ad7a42d-de79-4ce7-859e-5fe773534e4a",
   "metadata": {},
   "outputs": [],
   "source": [
    "joined_df3['drv_holiday_flag'].value_counts()"
   ]
  },
  {
   "cell_type": "markdown",
   "id": "ff6d917c-e2f8-40d3-a207-aa42c5d8d404",
   "metadata": {},
   "source": [
    "### Transform Time Component"
   ]
  },
  {
   "cell_type": "code",
   "execution_count": null,
   "id": "8d5524a7-06fb-4383-bc81-10fd6e33912d",
   "metadata": {},
   "outputs": [],
   "source": [
    "def cyclical_encode(data, col, max_val):\n",
    "    data['drv_' + col + '_sin'] = np.sin(2 * np.pi * data[col].map(int)/max_val)\n",
    "    data['drv_' + col + '_cos'] = np.cos(2 * np.pi * data[col].map(int)/max_val)\n",
    "    return data"
   ]
  },
  {
   "cell_type": "code",
   "execution_count": null,
   "id": "1f54bc2d-8b40-4db9-93d9-236a11132e2f",
   "metadata": {},
   "outputs": [],
   "source": [
    "sin_cos_transformed_list = {'collision_hour' : 23 ,\n",
    "                            'collision_dayofweek' : 6, \n",
    "                            'collision_month' : 12\n",
    "                           }\n",
    "\n",
    "for date_type in sin_cos_transformed_list:\n",
    "    joined_df3 = cyclical_encode(joined_df3, date_type, sin_cos_transformed_list[date_type])"
   ]
  },
  {
   "cell_type": "markdown",
   "id": "b69eaf76-ec2b-40c8-a238-5ed85ec1544c",
   "metadata": {},
   "source": [
    "### Import collision to create target"
   ]
  },
  {
   "cell_type": "code",
   "execution_count": null,
   "id": "d19d0330-7ae2-4583-8d24-4cbb0e659a34",
   "metadata": {},
   "outputs": [],
   "source": [
    "joined_df3.shape"
   ]
  },
  {
   "cell_type": "code",
   "execution_count": null,
   "id": "8ddffed1-bc68-4f5b-8db4-6332da86bca0",
   "metadata": {},
   "outputs": [],
   "source": [
    "with pd.option_context(\"display.max_columns\", 150):\n",
    "    display(joined_df3.sample(5))"
   ]
  },
  {
   "cell_type": "code",
   "execution_count": null,
   "id": "d0b531a2-66c7-4192-a85f-14c93fe48ae2",
   "metadata": {},
   "outputs": [],
   "source": [
    "max(joined_df3.prev1_yr_coll_neighbor1)"
   ]
  },
  {
   "cell_type": "code",
   "execution_count": null,
   "id": "b8457ea1-819c-4ab6-9dae-0de7446668bd",
   "metadata": {},
   "outputs": [],
   "source": [
    "# fix double counting of history\n",
    "joined_df3['history_check'] = joined_df3.prev1_yr_coll_neighbor1 - joined_df3.prev1_yr_coll_cnt"
   ]
  },
  {
   "cell_type": "code",
   "execution_count": null,
   "id": "bcf57f5e-d1ae-4724-9a25-379cd830e147",
   "metadata": {},
   "outputs": [],
   "source": [
    "joined_df3['history_check'].min()"
   ]
  },
  {
   "cell_type": "markdown",
   "id": "aa1ae4bb-50b3-477c-aeab-a150dfa7a223",
   "metadata": {},
   "source": [
    "## 4. Save final dataset\n",
    "#### Write to parquet and upload to S3"
   ]
  },
  {
   "cell_type": "code",
   "execution_count": null,
   "id": "f6d555ee-f552-41a5-8f49-6ad0dd42e38f",
   "metadata": {},
   "outputs": [],
   "source": [
    "awswrangler.s3.to_parquet(df=joined_df3, path = f's3://{s3_bucket}/model_data/out_of_time_validation.parquet', index=False,\n",
    "                       boto3_session=my_session, use_threads=True\n",
    "                       )"
   ]
  },
  {
   "cell_type": "code",
   "execution_count": null,
   "id": "2e83cc59-af90-4d4c-8e55-4d8ec7c0efce",
   "metadata": {},
   "outputs": [],
   "source": []
  }
 ],
 "metadata": {
  "kernelspec": {
   "display_name": "Python 3 (ipykernel)",
   "language": "python",
   "name": "python3"
  },
  "language_info": {
   "codemirror_mode": {
    "name": "ipython",
    "version": 3
   },
   "file_extension": ".py",
   "mimetype": "text/x-python",
   "name": "python",
   "nbconvert_exporter": "python",
   "pygments_lexer": "ipython3",
   "version": "3.9.13"
  }
 },
 "nbformat": 4,
 "nbformat_minor": 5
}
