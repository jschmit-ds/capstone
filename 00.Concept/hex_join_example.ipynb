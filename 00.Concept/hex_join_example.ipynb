{
 "cells": [
  {
   "cell_type": "code",
   "execution_count": null,
   "id": "f2519a85-dd29-4dff-a961-dc2944fe88dd",
   "metadata": {},
   "outputs": [],
   "source": [
    "import pandas as pd"
   ]
  },
  {
   "cell_type": "code",
   "execution_count": null,
   "id": "0f405c3c-dddc-4f40-8bff-b8cb4d12623c",
   "metadata": {},
   "outputs": [],
   "source": [
    "df1 = pd.DataFrame({'hex_id' : [111],\n",
    "             'hex_kring_1_neighbors': [[111, 112,113, 114,115,116,117]],\n",
    "             'collision_count': [23]})\n",
    "df1"
   ]
  },
  {
   "cell_type": "code",
   "execution_count": null,
   "id": "8b1bcfe4-a995-45a2-ab28-4d8958de4703",
   "metadata": {},
   "outputs": [],
   "source": [
    "df1.explode('hex_kring_1_neighbors')"
   ]
  },
  {
   "cell_type": "code",
   "execution_count": null,
   "id": "e3f22c4b-7115-4e8b-a11c-0af0d34ecbf5",
   "metadata": {},
   "outputs": [],
   "source": [
    "df2 = pd.DataFrame({'hex_id' : [111, 112,113, 114,115,116,117],\n",
    "             'collision_count': [23,56,32,11,1,10,33]})\n",
    "df2"
   ]
  },
  {
   "cell_type": "code",
   "execution_count": null,
   "id": "e9f4d8a2-759f-4344-9d1a-3c5048f7683e",
   "metadata": {},
   "outputs": [],
   "source": [
    "df2.collision_count.sum()"
   ]
  },
  {
   "cell_type": "code",
   "execution_count": null,
   "id": "2f16f733-99f7-4930-9d9c-89aaf712f086",
   "metadata": {},
   "outputs": [],
   "source": [
    "df1['hex_kring_1_neighbors_collision_cnt'] = df2.collision_count.sum()"
   ]
  },
  {
   "cell_type": "code",
   "execution_count": null,
   "id": "d3912df0-c03e-40ff-ab03-fd8ea5e7cecd",
   "metadata": {},
   "outputs": [],
   "source": [
    "df1"
   ]
  },
  {
   "cell_type": "code",
   "execution_count": null,
   "id": "2dfd6e6b-e2b1-4119-a0c8-f7614a3368e1",
   "metadata": {},
   "outputs": [],
   "source": []
  }
 ],
 "metadata": {
  "kernelspec": {
   "display_name": "Python 3 (ipykernel)",
   "language": "python",
   "name": "python3"
  },
  "language_info": {
   "codemirror_mode": {
    "name": "ipython",
    "version": 3
   },
   "file_extension": ".py",
   "mimetype": "text/x-python",
   "name": "python",
   "nbconvert_exporter": "python",
   "pygments_lexer": "ipython3",
   "version": "3.9.13"
  }
 },
 "nbformat": 4,
 "nbformat_minor": 5
}
