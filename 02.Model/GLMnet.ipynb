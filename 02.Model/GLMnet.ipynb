{
 "cells": [
  {
   "cell_type": "code",
   "execution_count": null,
   "id": "6d26c3b0-beb2-4500-957f-e9fab8250bb3",
   "metadata": {},
   "outputs": [],
   "source": [
    "import pandas as pd\n",
    "from pandas.api.types import is_numeric_dtype\n",
    "from pandas.api.types import is_integer_dtype \n",
    "import numpy as np\n",
    "\n",
    "from glmnet import LogitNet\n",
    "from sklearn.metrics import roc_auc_score\n",
    "#import scipy, importlib, pprint, matplotlib.pyplot as plt, warnings\n",
    "#from glmnet import glmnet; from glmnetPlot import glmnetPlot\n",
    "#from glmnetPrint import glmnetPrint; from glmnetCoef import glmnetCoef; from glmnetPredict import glmnetPredict\n",
    "#from cvglmnet import cvglmnet; from cvglmnetCoef import cvglmnetCoef\n",
    "#from cvglmnetPlot import cvglmnetPlot; from cvglmnetPredict import cvglmnetPredict\n",
    "\n",
    "from sklearn.preprocessing import OneHotEncoder\n",
    "\n",
    "#plt.rc(\"figure\", figsize=(16,8))\n",
    "#plt.rc(\"font\", size=14)\n",
    "\n",
    "import seaborn as sns\n",
    "import matplotlib.pyplot as plt\n",
    "\n",
    "import boto3\n",
    "import awswrangler\n",
    "\n",
    "s3_bucket = 'traffic-data-bucket'\n"
   ]
  },
  {
   "cell_type": "code",
   "execution_count": null,
   "id": "c1c3af9d-25aa-4432-ae99-ae497a72f01a",
   "metadata": {},
   "outputs": [],
   "source": [
    "from aws_secrets import aws_access_key_id, aws_secret_access_key, aws_session_token\n",
    "\n",
    "my_session = boto3.Session(\n",
    "    aws_access_key_id=aws_access_key_id,\n",
    "    aws_secret_access_key=aws_secret_access_key,\n",
    "    aws_session_token = aws_session_token\n",
    "\n",
    ")"
   ]
  },
  {
   "cell_type": "code",
   "execution_count": null,
   "id": "0847d957-9f9f-4688-acd6-57b84c83e26c",
   "metadata": {},
   "outputs": [],
   "source": [
    "df = awswrangler.s3.read_parquet(path = f's3://{s3_bucket}/model_data/model_data_post_transformation.parquet', boto3_session=my_session, use_threads=True)"
   ]
  },
  {
   "cell_type": "code",
   "execution_count": null,
   "id": "0b9794de-8f3f-419d-9843-e65ae8bd3d05",
   "metadata": {},
   "outputs": [],
   "source": [
    "def get_categorical_indicies(X):\n",
    "    cats = []\n",
    "    for col in X.columns:\n",
    "        #print(col)\n",
    "        if is_numeric_dtype(X[col]):\n",
    "            pass\n",
    "        else:\n",
    "            cats.append(col)\n",
    "    cat_indicies = []\n",
    "    for col in cats:\n",
    "        #print(col)\n",
    "        cat_indicies.append(X.columns.get_loc(col))\n",
    "        #print(X.columns.get_loc(col))\n",
    "    return cat_indicies"
   ]
  },
  {
   "cell_type": "code",
   "execution_count": null,
   "id": "37516f8f-53a5-4043-b9eb-f34a7ba112a5",
   "metadata": {},
   "outputs": [],
   "source": [
    "#initialize\n",
    "collision_year_list = [2015, 2016, 2017, 2018, 2019]\n",
    "\n",
    "\n",
    "street_features = ['la_data_city_name', \n",
    "                     'node_street_count', 'node_stop', 'node_traffic_signals',\n",
    "                     'edge_speed_kph_max', 'edge_speek_kph_min',\n",
    "                     'edge_lanes_max', 'edge_motorway_flag', 'edge_motorway_link_flag',\n",
    "                     'edge_living_street_flag', 'edge_bridge_flag', 'edge_oneway_flag',\n",
    "                     'edge_tunnel_flag', 'amenities_bar_cnt', 'amenities_school_cnt',\n",
    "                     'amenities_restaurant_cnt', 'amenities_college_cnt',\n",
    "                     'drv_edge_lanes_max_imputed_flag']\n",
    "\n",
    "time_features = ['collision_hour',\n",
    "                 'collision_month', 'collision_dayofweek', 'drv_holiday_flag'\n",
    "                ]\n",
    "\n",
    "hex_history_features = ['prev1_yr_coll_cnt', 'prev1_yr_coll_neighbor1']\n",
    "\n",
    "weather_features = ['noaa_wind_speed', 'noaa_precipitation',\n",
    "                    'noaa_temperature_average', 'noaa_temperature_max',\n",
    "                    'noaa_temperature_min']\n",
    "\n",
    "\n",
    "model_features = street_features +  time_features + hex_history_features +  weather_features\n"
   ]
  },
  {
   "cell_type": "code",
   "execution_count": null,
   "id": "92d21156-4cc2-4aa9-a7f7-ed80e7a488c5",
   "metadata": {},
   "outputs": [],
   "source": [
    "df = df[df.collision_year != 2014]\n",
    "df.collision_year.unique()"
   ]
  },
  {
   "cell_type": "code",
   "execution_count": null,
   "id": "7273f6eb-df72-44eb-a9d7-f559f183c1b5",
   "metadata": {},
   "outputs": [],
   "source": [
    "df['collision_month'] = df['collision_month'].map(str)\n",
    "df['collision_dayofweek'] = df['collision_dayofweek'].map(str)\n",
    "df['collision_year'] = df['collision_year'].map(str)\n",
    "df['collision_hour'] = df['collision_hour'].map(str)"
   ]
  },
  {
   "cell_type": "code",
   "execution_count": null,
   "id": "6715892f-3d08-472d-b9c0-043f0aa1f6b8",
   "metadata": {},
   "outputs": [],
   "source": [
    "df_caps = df.copy()\n",
    "df_caps.edge_lanes_max = df_caps.edge_lanes_max.clip(upper=8)\n",
    "df_caps.node_traffic_signals = df_caps.node_traffic_signals.clip(upper=13)\n",
    "df_caps.node_street_count = df_caps.node_street_count.clip(upper=6)\n",
    "df_caps.node_stop = df_caps.node_stop.clip(upper=20)\n",
    "df_caps.amenities_bar_cnt = df_caps.amenities_bar_cnt.clip(upper=2)\n",
    "df_caps.amenities_school_cnt = df_caps.amenities_school_cnt.clip(upper=3)\n",
    "df_caps.amenities_restaurant_cnt = df_caps.amenities_restaurant_cnt.clip(upper=3)\n",
    "df_caps.amenities_college_cnt = df_caps.amenities_college_cnt.clip(upper=1)\n",
    "\n",
    "df_caps.prev1_yr_coll_cnt = df_caps.prev1_yr_coll_cnt.clip(upper=70)\n",
    "df_caps.prev1_yr_coll_neighbor1 = df_caps.prev1_yr_coll_neighbor1 - df_caps.prev1_yr_coll_cnt"
   ]
  },
  {
   "cell_type": "code",
   "execution_count": null,
   "id": "6b6b0c10-a065-4c31-a8be-e0d83e99f44e",
   "metadata": {},
   "outputs": [],
   "source": [
    "df_caps['prev1_yr_coll_cnt_pw2'] = df_caps['prev1_yr_coll_cnt']**2\n",
    "#df_caps['prev1_yr_coll_cnt_pw3'] = df_caps['prev1_yr_coll_cnt']**3"
   ]
  },
  {
   "cell_type": "code",
   "execution_count": null,
   "id": "f9f6f07e-7d0b-403d-91b3-d69650198d28",
   "metadata": {},
   "outputs": [],
   "source": [
    "model_features = model_features + ['prev1_yr_coll_cnt_pw2']"
   ]
  },
  {
   "cell_type": "code",
   "execution_count": null,
   "id": "fef348a5-5034-4c6d-ba9d-1085c3a223ec",
   "metadata": {},
   "outputs": [],
   "source": [
    "cat_index = get_categorical_indicies(df_caps[model_features])\n",
    "cat_col_list = df_caps[model_features].columns[cat_index].values.tolist()\n",
    "cat_col_list"
   ]
  },
  {
   "cell_type": "code",
   "execution_count": null,
   "id": "4e37cc0e-e03e-451e-a981-e648454c22ad",
   "metadata": {},
   "outputs": [],
   "source": [
    "train_df = df_caps[df_caps.ttv_split == 'Train']\n",
    "train_df = train_df[train_df.collision_year != '2014']\n",
    "test_df = df_caps[df_caps.ttv_split == 'Test']\n",
    "test_df = test_df[test_df.collision_year != '2014']\n",
    "all_df = df_caps.copy()"
   ]
  },
  {
   "cell_type": "code",
   "execution_count": null,
   "id": "b062ebfb-2a88-45ea-a884-6dde7b648bbc",
   "metadata": {},
   "outputs": [],
   "source": [
    "train_cat_df = train_df[cat_col_list]\n",
    "test_cat_df = test_df[cat_col_list]\n",
    "all_cat_df = all_df[cat_col_list]\n",
    "\n",
    "train_num_df = train_df[model_features]\n",
    "test_num_df = test_df[model_features]\n",
    "all_num_df = all_df[model_features]\n",
    "\n",
    "train_num_df = train_num_df.drop(cat_col_list, axis = 1)\n",
    "test_num_df = test_num_df.drop(cat_col_list, axis = 1)\n",
    "all_num_df = all_num_df.drop(cat_col_list, axis = 1)\n"
   ]
  },
  {
   "cell_type": "code",
   "execution_count": null,
   "id": "ffea3566-5c0d-4b3d-8f8d-59e173683906",
   "metadata": {},
   "outputs": [],
   "source": [
    "enc = OneHotEncoder(handle_unknown='ignore')\n",
    "enc.fit(train_cat_df)\n",
    "col_names = enc.get_feature_names_out()\n",
    "train_one_hot_df = pd.DataFrame(enc.transform(train_cat_df).toarray())\n",
    "train_one_hot_df.columns = col_names\n",
    "\n",
    "test_one_hot_df = pd.DataFrame(enc.transform(test_cat_df).toarray())\n",
    "test_one_hot_df.columns = col_names\n",
    "\n",
    "all_one_hot_df = pd.DataFrame(enc.transform(all_cat_df).toarray())\n",
    "all_one_hot_df.columns = col_names"
   ]
  },
  {
   "cell_type": "code",
   "execution_count": null,
   "id": "41b28f71-2ecc-42b3-91cb-fab7e534ed61",
   "metadata": {},
   "outputs": [],
   "source": [
    "train_cat_num_joined_df = pd.concat([train_one_hot_df.reset_index(drop = True), train_num_df.reset_index(drop = True)], axis = 1)\n",
    "test_cat_num_joined_df = pd.concat([test_one_hot_df.reset_index(drop = True), test_num_df.reset_index(drop = True)], axis = 1)\n",
    "all_cat_num_joined_df = pd.concat([all_one_hot_df.reset_index(drop = True), all_num_df.reset_index(drop = True)], axis = 1)"
   ]
  },
  {
   "cell_type": "code",
   "execution_count": null,
   "id": "4bb106ac-a9e7-49d4-9953-59e1d5caa81c",
   "metadata": {},
   "outputs": [],
   "source": [
    "def convert_int_to_float(X_frame):\n",
    "    ints = []\n",
    "    for col in X_frame.columns:\n",
    "        if is_integer_dtype(X_frame[col]):\n",
    "            ints.append(col)\n",
    "    for col in ints:\n",
    "        X_frame[col] = X_frame[col].astype('float')\n",
    "    return X_frame"
   ]
  },
  {
   "cell_type": "code",
   "execution_count": null,
   "id": "3a39aa69-6f37-4801-b2c0-e37e68fd2c7d",
   "metadata": {},
   "outputs": [],
   "source": [
    "train_cat_num_joined_df = convert_int_to_float(train_cat_num_joined_df)\n",
    "test_cat_num_joined_df = convert_int_to_float(test_cat_num_joined_df)\n",
    "all_cat_num_joined_df = convert_int_to_float(all_cat_num_joined_df)"
   ]
  },
  {
   "cell_type": "code",
   "execution_count": null,
   "id": "a0d30fb3-0512-487f-8db1-65d840adc5ca",
   "metadata": {},
   "outputs": [],
   "source": [
    "#train_cat_num_joined_df = train_cat_num_joined_df.fillna(0)\n",
    "#test_cat_num_joined_df = test_cat_num_joined_df.fillna(0)"
   ]
  },
  {
   "cell_type": "code",
   "execution_count": null,
   "id": "06737a83-c4a6-4033-b7b6-bbcf46c53cd4",
   "metadata": {},
   "outputs": [],
   "source": [
    "X_train = train_cat_num_joined_df\n",
    "X_test = test_cat_num_joined_df\n",
    "X_all = all_cat_num_joined_df\n",
    "\n",
    "y_train = train_df[['target']]\n",
    "y_test = test_df[['target']]\n",
    "y_all = all_df[['target']]\n",
    "\n",
    "y_train = convert_int_to_float(y_train)\n",
    "y_test = convert_int_to_float(y_test)\n",
    "y_all = convert_int_to_float(y_all)"
   ]
  },
  {
   "cell_type": "code",
   "execution_count": null,
   "id": "d1ed8eca-8b25-460e-8951-1360d215cd11",
   "metadata": {},
   "outputs": [],
   "source": [
    "alpha_range = range(0,1000, 50)\n",
    "alpha_range = [a/1000 for a in alpha_range]"
   ]
  },
  {
   "cell_type": "markdown",
   "id": "ccf2b16b-2f10-48a0-8942-ee9ef88cae90",
   "metadata": {},
   "source": [
    "### Find the best alpha and lambda - only run if a grid search is necessary.  Otherwise skip ahead to fixed model"
   ]
  },
  {
   "cell_type": "code",
   "execution_count": null,
   "id": "e41760b6-5847-448d-8e95-3b18a78b7a67",
   "metadata": {},
   "outputs": [],
   "source": [
    "#alph_list = list()\n",
    "#lambda_list = list()\n",
    "#best_train_score_list = list()\n",
    "#best_test_score_list = list()\n",
    "#\n",
    "#\n",
    "#thisReg = LogitNet(scoring='roc_auc')\n",
    "#for a in alpha_range:\n",
    "#    print(a)\n",
    "#    thisReg = LogitNet(scoring='roc_auc', alpha = a)\n",
    "#    thisReg.fit(X_train, y_train.values.ravel())\n",
    "#    best_lambda = thisReg.lambda_best_\n",
    "#    best_mask = thisReg.lambda_path_ == thisReg.lambda_best_\n",
    "#    best_index = [i for i, x in enumerate(best_mask) if x]\n",
    "#    best_train_score = thisReg.cv_mean_score_[best_index][0]\n",
    "#    best_test_score = roc_auc_score(y_test.astype(int), thisReg.predict_proba(X_test)[:,1])\n",
    "#    alph_list.append(a)\n",
    "#    lambda_list.append(best_lambda)\n",
    "#    best_train_score_list.append(best_train_score)\n",
    "#    best_test_score_list.append(best_test_score)"
   ]
  },
  {
   "cell_type": "code",
   "execution_count": null,
   "id": "c3862d14-226c-4888-9106-e1fceb3bc409",
   "metadata": {},
   "outputs": [],
   "source": [
    "#best_train_score_list"
   ]
  },
  {
   "cell_type": "code",
   "execution_count": null,
   "id": "24c7f1d0-bba6-4661-9ca5-d469a7ea843f",
   "metadata": {},
   "outputs": [],
   "source": [
    "#alph_list"
   ]
  },
  {
   "cell_type": "code",
   "execution_count": null,
   "id": "36b0a60b-2a49-48d1-b09e-17cb91916ab9",
   "metadata": {},
   "outputs": [],
   "source": [
    "#best_test_auc_mask = max(best_test_score_list) == best_test_score_list\n",
    "#best_test_auc_index = [i for i, x in enumerate(best_test_auc_mask) if x]\n",
    "#best_test_auc_index = best_test_auc_index[0]\n",
    "#best_alpha = alph_list[best_test_auc_index]\n",
    "#best_alpha\n",
    "##0.85"
   ]
  },
  {
   "cell_type": "code",
   "execution_count": null,
   "id": "6f97221d-605f-4ddc-813c-205e9253b1cd",
   "metadata": {},
   "outputs": [],
   "source": [
    "#best_grid_test_auc = max(best_test_score_list)\n",
    "#best_grid_test_auc\n",
    "##0.7650582500286744"
   ]
  },
  {
   "cell_type": "code",
   "execution_count": null,
   "id": "0c806adf-cdc5-4e0d-bfb6-aba727447046",
   "metadata": {},
   "outputs": [],
   "source": [
    "#best_lambda = lambda_list[best_test_auc_index]\n",
    "#best_lambda = best_lambda[0]\n",
    "#best_lambda\n",
    "##0.0015224243404703295"
   ]
  },
  {
   "cell_type": "code",
   "execution_count": null,
   "id": "b8d321cd-7fdb-482b-8ba7-2a5a2ba48fc3",
   "metadata": {},
   "outputs": [],
   "source": [
    "best_lambda = 0.0015224243404703295\n",
    "best_alpha = 0.85"
   ]
  },
  {
   "cell_type": "code",
   "execution_count": null,
   "id": "2469fc99-4d3a-487a-af8a-d94d7b398dfc",
   "metadata": {},
   "outputs": [],
   "source": [
    "#made the model worse\n",
    "#X_train['prev1_yr_coll_neighbor1_flag'] = 0\n",
    "#X_train.loc[X_train.prev1_yr_coll_neighbor1 == 0, 'prev1_yr_coll_neighbor1_flag'] = 1\n",
    "#X_train['prev1_yr_coll_cnt_flag'] = 0\n",
    "#X_train.loc[X_train.prev1_yr_coll_cnt == 0, 'prev1_yr_coll_cnt_flag'] = 1\n",
    "#X_test['prev1_yr_coll_neighbor1_flag'] = 0\n",
    "#X_test.loc[X_test.prev1_yr_coll_neighbor1 == 0, 'prev1_yr_coll_neighbor1_flag'] = 1\n",
    "#X_test['prev1_yr_coll_cnt_flag'] = 0\n",
    "#X_test.loc[X_test.prev1_yr_coll_cnt == 0, 'prev1_yr_coll_cnt_flag'] = 1"
   ]
  },
  {
   "cell_type": "code",
   "execution_count": null,
   "id": "9e2f6234-0f01-456c-acdd-fb7947a587cb",
   "metadata": {},
   "outputs": [],
   "source": [
    "glmnet = LogitNet(scoring='roc_auc', alpha = best_alpha, lambda_path = [best_lambda])\n",
    "glmnet.fit(X_train, y_train.values.ravel())"
   ]
  },
  {
   "cell_type": "code",
   "execution_count": null,
   "id": "781675d9-1ac6-4946-8ef6-dd8a61ae7314",
   "metadata": {},
   "outputs": [],
   "source": [
    "coef_df = pd.DataFrame(np.transpose(glmnet.coef_))\n",
    "coef_df.columns = ['coefficient']\n",
    "coef_df['variables'] = X_train.columns\n",
    "coef_df = coef_df.sort_values('coefficient')\n",
    "coef_df.shape"
   ]
  },
  {
   "cell_type": "code",
   "execution_count": null,
   "id": "261d983f-b37a-4c51-802e-c7ff07994738",
   "metadata": {},
   "outputs": [],
   "source": [
    "len(coef_df[coef_df['coefficient'] == 0])"
   ]
  },
  {
   "cell_type": "code",
   "execution_count": null,
   "id": "95d92837-9f83-4d90-aefd-b6dd2add3047",
   "metadata": {},
   "outputs": [],
   "source": [
    "roc_auc_score(y_test.astype(int), glmnet.predict_proba(X_test)[:,1])"
   ]
  },
  {
   "cell_type": "code",
   "execution_count": null,
   "id": "2116b464-6bd0-4ee9-962b-74c5c3f7a7f9",
   "metadata": {},
   "outputs": [],
   "source": [
    "predictions = glmnet.predict_proba(X_all)[:,1]"
   ]
  },
  {
   "cell_type": "code",
   "execution_count": null,
   "id": "fcbb7849-de6f-48c6-bb03-de6aefe70241",
   "metadata": {},
   "outputs": [],
   "source": [
    "df['prediction'] = predictions"
   ]
  },
  {
   "cell_type": "code",
   "execution_count": null,
   "id": "d49ae207-049e-48b0-af37-a0cbe7f1533a",
   "metadata": {},
   "outputs": [],
   "source": [
    "df_output = df[['hex_id', 'collision_date', 'collision_hour', 'ttv_split', 'prediction']]"
   ]
  },
  {
   "cell_type": "code",
   "execution_count": null,
   "id": "5313d87a-311d-4a4c-b4fa-53dbbeba536f",
   "metadata": {},
   "outputs": [],
   "source": [
    "df_output.sample(5)"
   ]
  },
  {
   "cell_type": "code",
   "execution_count": null,
   "id": "740361c6-d8f4-4c32-88d0-841850ea89ce",
   "metadata": {},
   "outputs": [],
   "source": [
    "model_name = \"GLMnet_03\"\n",
    "df_output['model_name'] = model_name\n",
    "\n",
    "awswrangler.s3.to_csv(df=df_output, path = f\"s3://{s3_bucket}/model_scoring/individual_model_scores/{model_name}.csv\", index=False,\n",
    "                       boto3_session=my_session, use_threads=True\n",
    "                       )"
   ]
  },
  {
   "cell_type": "code",
   "execution_count": null,
   "id": "44b72470-c06d-42d4-badb-f3394117d747",
   "metadata": {},
   "outputs": [],
   "source": [
    "import boto3\n",
    "import pickle\n",
    "\n",
    "\n",
    "key='model_scoring/individual_model_scores/GLMnet_v02.pkl'\n",
    "pickle_byte_obj = pickle.dumps(glmnet)\n",
    "#s3_resource = boto3.resource('s3')\n",
    "s3_resource = my_session.resource('s3')\n",
    "\n",
    "s3_resource.Object(s3_bucket,key).put(Body=pickle_byte_obj)"
   ]
  },
  {
   "cell_type": "code",
   "execution_count": null,
   "id": "615732f5-b572-4e03-9913-ebd9123196bb",
   "metadata": {},
   "outputs": [],
   "source": []
  }
 ],
 "metadata": {
  "kernelspec": {
   "display_name": "Python 3 (ipykernel)",
   "language": "python",
   "name": "python3"
  },
  "language_info": {
   "codemirror_mode": {
    "name": "ipython",
    "version": 3
   },
   "file_extension": ".py",
   "mimetype": "text/x-python",
   "name": "python",
   "nbconvert_exporter": "python",
   "pygments_lexer": "ipython3",
   "version": "3.9.13"
  }
 },
 "nbformat": 4,
 "nbformat_minor": 5
}
