{
 "cells": [
  {
   "cell_type": "markdown",
   "metadata": {},
   "source": [
    "# Out of Time Predictions"
   ]
  },
  {
   "cell_type": "code",
   "execution_count": null,
   "metadata": {},
   "outputs": [],
   "source": [
    "# !pip install -U pip\n",
    "# !pip install -U setuptools wheel\n",
    "# !pip install -U \"mxnet<2.0.0\" bokeh==2.0.1\n",
    "# !pip install autogluon --no-cache-dir"
   ]
  },
  {
   "cell_type": "code",
   "execution_count": null,
   "metadata": {},
   "outputs": [],
   "source": [
    "import pandas as pd\n",
    "import numpy as np\n",
    "import boto3\n",
    "# import awswrangler\n",
    "from autogluon.tabular import TabularPredictor\n",
    "\n",
    "# set name of S3 bucket\n",
    "s3_bucket = 'traffic-data-bucket'\n",
    "\n",
    "pd.set_option('display.max_columns', 500)\n",
    "pd.set_option('display.max_rows', 500)"
   ]
  },
  {
   "cell_type": "markdown",
   "metadata": {},
   "source": [
    "## 1. Import data"
   ]
  },
  {
   "cell_type": "code",
   "execution_count": null,
   "metadata": {},
   "outputs": [],
   "source": [
    "df = pd.read_parquet(f's3://{s3_bucket}/model_data/out_of_time_validation.parquet', engine='auto')"
   ]
  },
  {
   "cell_type": "code",
   "execution_count": null,
   "metadata": {},
   "outputs": [],
   "source": [
    "df.shape"
   ]
  },
  {
   "cell_type": "code",
   "execution_count": null,
   "metadata": {},
   "outputs": [],
   "source": [
    "df['day_of_week_sin'] = np.sin(df['collision_dayofweek'] * (2 * np.pi / 7))\n",
    "df['day_of_week_cos'] = np.cos(df['collision_dayofweek'] * (2 * np.pi / 7))"
   ]
  },
  {
   "cell_type": "markdown",
   "metadata": {},
   "source": [
    "#### Select feature columns"
   ]
  },
  {
   "cell_type": "code",
   "execution_count": null,
   "metadata": {},
   "outputs": [],
   "source": [
    "street_features = ['la_data_city_name', \n",
    "                     'node_street_count', 'node_stop', 'node_traffic_signals',\n",
    "                     'edge_speed_kph_max', 'edge_speek_kph_min',\n",
    "                     'edge_lanes_max', 'edge_motorway_flag', 'edge_motorway_link_flag',\n",
    "                     'edge_living_street_flag', 'edge_bridge_flag', 'edge_oneway_flag',\n",
    "                     'edge_tunnel_flag', 'amenities_bar_cnt', 'amenities_school_cnt',\n",
    "                     'amenities_restaurant_cnt', 'amenities_college_cnt',\n",
    "                     'drv_edge_lanes_max_imputed_flag']\n",
    "\n",
    "time_features = ['drv_collision_hour_sin','drv_collision_hour_cos',\n",
    "                 'collision_month', 'drv_holiday_flag', 'day_of_week_sin', 'day_of_week_cos' # add cosine and sine for day of the week\n",
    "                ]\n",
    "\n",
    "hex_history_features = ['prev1_yr_coll_cnt', 'prev1_yr_coll_neighbor1']\n",
    "\n",
    "weather_features = ['noaa_wind_speed', 'noaa_precipitation',\n",
    "                    'noaa_temperature_average', 'noaa_temperature_max',\n",
    "                    'noaa_temperature_min']\n",
    "\n",
    "model_features = street_features +  time_features + hex_history_features +  weather_features"
   ]
  },
  {
   "cell_type": "markdown",
   "metadata": {},
   "source": [
    "Create a dataframe of selected features."
   ]
  },
  {
   "cell_type": "code",
   "execution_count": null,
   "metadata": {},
   "outputs": [],
   "source": [
    "X_all = df[model_features]"
   ]
  },
  {
   "cell_type": "code",
   "execution_count": null,
   "metadata": {},
   "outputs": [],
   "source": [
    "X_all.dtypes"
   ]
  },
  {
   "cell_type": "code",
   "execution_count": null,
   "metadata": {},
   "outputs": [],
   "source": [
    "for column in X_all.columns:\n",
    "    if df[column].dtype == 'Int64':\n",
    "        df[column] = df[column].astype(int)\n",
    "    if df[column].dtype == 'Float64':\n",
    "        df[column] = df[column].astype('float64')"
   ]
  },
  {
   "cell_type": "code",
   "execution_count": null,
   "metadata": {},
   "outputs": [],
   "source": [
    "percent_missing = X_all.isnull().sum()\n",
    "missing_value_df = pd.DataFrame({'column_name': X_all.columns,\n",
    "                                 'number_missing': percent_missing})\n",
    "\n",
    "display(missing_value_df.sort_values('number_missing', ascending=False))"
   ]
  },
  {
   "cell_type": "markdown",
   "metadata": {},
   "source": [
    "## 3. Generate predicitons on out of time data\n",
    "#### 3.1 Load saved AutoGluon model"
   ]
  },
  {
   "cell_type": "code",
   "execution_count": null,
   "metadata": {},
   "outputs": [],
   "source": [
    "load_path = 'agModels-final_model_updated'\n",
    "\n",
    "predictor = TabularPredictor.load(load_path)"
   ]
  },
  {
   "cell_type": "markdown",
   "metadata": {},
   "source": [
    "#### 3.2 Generate predictions across the out of time validation set"
   ]
  },
  {
   "cell_type": "code",
   "execution_count": null,
   "metadata": {},
   "outputs": [],
   "source": [
    "predictions = predictor.predict_proba(X_all)"
   ]
  },
  {
   "cell_type": "markdown",
   "metadata": {},
   "source": [
    "Add predictions from the positive class."
   ]
  },
  {
   "cell_type": "code",
   "execution_count": null,
   "metadata": {},
   "outputs": [],
   "source": [
    "df['prediction'] = predictions[1]"
   ]
  },
  {
   "cell_type": "code",
   "execution_count": null,
   "metadata": {},
   "outputs": [],
   "source": [
    "df.head()"
   ]
  },
  {
   "cell_type": "markdown",
   "metadata": {},
   "source": [
    "Calculate the mean prediction each hexagon across each collision hour group and date."
   ]
  },
  {
   "cell_type": "code",
   "execution_count": null,
   "metadata": {},
   "outputs": [],
   "source": [
    "df_predictions = df.groupby(['collision_hour_grp', 'collision_date','hex_id'], as_index=False)['prediction'].mean()"
   ]
  },
  {
   "cell_type": "markdown",
   "metadata": {},
   "source": [
    "#### 3.3 Calculate the relative probability\n",
    "The relative probability reflects the percentage above or below the average probability where the average probability is 0.2."
   ]
  },
  {
   "cell_type": "code",
   "execution_count": null,
   "metadata": {},
   "outputs": [],
   "source": [
    "df_predictions['relativity'] = (df_predictions['prediction'] - 0.2) / 0.2"
   ]
  },
  {
   "cell_type": "code",
   "execution_count": null,
   "metadata": {},
   "outputs": [],
   "source": [
    "df_predictions.dtypes"
   ]
  },
  {
   "cell_type": "code",
   "execution_count": null,
   "metadata": {},
   "outputs": [],
   "source": [
    "df_predictions['collision_date'] = df_predictions['collision_date'].astype('datetime64[ns]')"
   ]
  },
  {
   "cell_type": "code",
   "execution_count": null,
   "metadata": {},
   "outputs": [],
   "source": [
    "df_predictions.head()"
   ]
  },
  {
   "cell_type": "markdown",
   "metadata": {},
   "source": [
    "## 4. Upload to S3"
   ]
  },
  {
   "cell_type": "code",
   "execution_count": null,
   "metadata": {},
   "outputs": [],
   "source": [
    "df_predictions.to_parquet(f\"s3://{s3_bucket}/power_bi/out_of_time_predictions.parquet\", index=False, compression='GZIP')"
   ]
  },
  {
   "cell_type": "code",
   "execution_count": null,
   "metadata": {},
   "outputs": [],
   "source": []
  }
 ],
 "metadata": {
  "instance_type": "ml.m5.4xlarge",
  "kernelspec": {
   "display_name": "Python 3 (MXNet 1.9 Python 3.8 CPU Optimized)",
   "language": "python",
   "name": "python3__SAGEMAKER_INTERNAL__arn:aws:sagemaker:us-west-1:742091327244:image/mxnet-1.9-cpu-py38-ubuntu20.04-sagemaker-v1.0"
  },
  "language_info": {
   "codemirror_mode": {
    "name": "ipython",
    "version": 3
   },
   "file_extension": ".py",
   "mimetype": "text/x-python",
   "name": "python",
   "nbconvert_exporter": "python",
   "pygments_lexer": "ipython3",
   "version": "3.8.10"
  }
 },
 "nbformat": 4,
 "nbformat_minor": 4
}
