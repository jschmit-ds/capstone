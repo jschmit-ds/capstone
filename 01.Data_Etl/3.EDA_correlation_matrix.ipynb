{
 "cells": [
  {
   "cell_type": "markdown",
   "id": "c85e0b72-55af-4a9c-9b46-a79fede54bda",
   "metadata": {},
   "source": [
    "# Exploratory Data Analysis: Correlation Matrix"
   ]
  },
  {
   "cell_type": "code",
   "execution_count": null,
   "id": "b6c162fa-be3c-404e-8562-73808543ffeb",
   "metadata": {},
   "outputs": [],
   "source": [
    "%matplotlib inline\n",
    "import matplotlib.pyplot as plt\n",
    "import altair as alt\n",
    "import seaborn as sns\n",
    "import pandas as pd\n",
    "import numpy as np\n",
    "\n",
    "import boto3\n",
    "import awswrangler\n",
    "# set name of S3 bucket\n",
    "s3_bucket = 'traffic-data-bucket'"
   ]
  },
  {
   "cell_type": "markdown",
   "id": "fed2e50a-0a59-4bfd-9ff1-ea78c507d12d",
   "metadata": {},
   "source": [
    "## 1. Create Boto3 session\n",
    "Start by creating a boto3 session so that we can connect to the S3 bucket."
   ]
  },
  {
   "cell_type": "code",
   "execution_count": null,
   "id": "17dd541b-608a-4de4-99f3-6815066bc20a",
   "metadata": {},
   "outputs": [],
   "source": [
    "from aws_secrets import aws_access_key_id, aws_secret_access_key, aws_session_token\n",
    "\n",
    "my_session = boto3.Session(\n",
    "    aws_access_key_id=aws_access_key_id,\n",
    "    aws_secret_access_key=aws_secret_access_key,\n",
    "    aws_session_token = aws_session_token\n",
    "\n",
    ")"
   ]
  },
  {
   "cell_type": "code",
   "execution_count": null,
   "id": "099c023d-461e-4a73-a0fa-8831b4f54055",
   "metadata": {},
   "outputs": [],
   "source": [
    "df = awswrangler.s3.read_parquet(path = f's3://{s3_bucket}/model_data/model_data_post_transformation.parquet', boto3_session=my_session, use_threads=True)"
   ]
  },
  {
   "cell_type": "code",
   "execution_count": null,
   "id": "5bf2b182-5532-40f0-ab2f-b46aba7cb136",
   "metadata": {},
   "outputs": [],
   "source": [
    "df.shape"
   ]
  },
  {
   "cell_type": "code",
   "execution_count": null,
   "id": "379f3614-4825-42c5-8565-a4ad43219233",
   "metadata": {},
   "outputs": [],
   "source": [
    "df.head()"
   ]
  },
  {
   "cell_type": "code",
   "execution_count": null,
   "id": "cd97ad0a-9dbf-4762-a7ab-70935beebb59",
   "metadata": {},
   "outputs": [],
   "source": [
    "df.columns"
   ]
  },
  {
   "cell_type": "markdown",
   "id": "07f04542-2a53-4754-aeee-6d7561533738",
   "metadata": {},
   "source": [
    "## 2. Correlation Matrix\n",
    "A correlation matrix will be created to visualize the correlation coefficients between variables and discover if there is any multicollinearity among the variables."
   ]
  },
  {
   "cell_type": "code",
   "execution_count": null,
   "id": "efea6e9c-99d3-4b53-bbc1-27caa1e348e3",
   "metadata": {},
   "outputs": [],
   "source": [
    "# Set up the matplotlib figure\n",
    "fig, ax = plt.subplots(figsize=(20,14))\n",
    "\n",
    "# Compute the correlation matrix\n",
    "# square the pearson correlation coefficients returned by .corr()\n",
    "corr = df.corr().abs()\n",
    "\n",
    "# Generate a mask for the upper triangle\n",
    "mask = np.triu(np.ones_like(corr, dtype=bool))\n",
    "\n",
    "# Generate a custom diverging colormap\n",
    "cmap = sns.diverging_palette(20, 10, as_cmap=True)\n",
    "\n",
    "# Draw the heatmap with the mask and correct aspect ratio\n",
    "sns.heatmap(corr, mask=mask, cmap=cmap, vmax=1, center=0,\n",
    "            square=True, linewidths=.5, cbar_kws={\"shrink\": .5}, ax = ax)\n",
    "\n",
    "ax.set_title('Correlation Matrix', fontdict= { 'fontsize': 24, 'fontweight':'bold', 'horizontalalignment': 'center'})\n",
    "plt.show()"
   ]
  },
  {
   "cell_type": "markdown",
   "id": "d417b28b-262c-49fb-8f4d-f81a7920de50",
   "metadata": {},
   "source": [
    "## 3. Time Series Analysis"
   ]
  },
  {
   "cell_type": "code",
   "execution_count": null,
   "id": "187c58dc-546c-4f1b-a6c2-6b9587794ede",
   "metadata": {},
   "outputs": [],
   "source": [
    "alt.Chart(corr).mark_rect()"
   ]
  },
  {
   "cell_type": "code",
   "execution_count": null,
   "id": "c9f416c5-45ed-40d1-8509-21b3769c21a6",
   "metadata": {},
   "outputs": [],
   "source": [
    "df_corr = corr.stack().reset_index()\n",
    "df_corr.rename(columns={'level_0':'x','level_1':'y',0:'correlation'}, inplace=True)"
   ]
  },
  {
   "cell_type": "code",
   "execution_count": null,
   "id": "ffe9d088-fffe-4e6f-af02-68dd16f633b2",
   "metadata": {},
   "outputs": [],
   "source": [
    "df_corr"
   ]
  },
  {
   "cell_type": "code",
   "execution_count": null,
   "id": "7d74e61f-64af-4825-9bc3-3667b6961776",
   "metadata": {},
   "outputs": [],
   "source": [
    "alt.Chart(df_corr).mark_rect().encode(\n",
    "    x=alt.X('x', title=None),\n",
    "    y=alt.Y('y', title=None),\n",
    "    color=alt.Color('correlation', title=None)\n",
    ").properties(title={'text':['Correlation Matrix'], 'subtitle':['']}).configure_title(\n",
    "    fontSize=20,\n",
    "    anchor='middle'\n",
    ")"
   ]
  },
  {
   "cell_type": "code",
   "execution_count": null,
   "id": "981e97e6-ba7e-4242-9950-5574cb390af6",
   "metadata": {},
   "outputs": [],
   "source": []
  },
  {
   "cell_type": "code",
   "execution_count": null,
   "id": "c02cc275-f5d0-4fd7-80bd-f3ad3662642b",
   "metadata": {},
   "outputs": [],
   "source": []
  }
 ],
 "metadata": {
  "kernelspec": {
   "display_name": "Python [conda env:capstone]",
   "language": "python",
   "name": "conda-env-capstone-py"
  },
  "language_info": {
   "codemirror_mode": {
    "name": "ipython",
    "version": 3
   },
   "file_extension": ".py",
   "mimetype": "text/x-python",
   "name": "python",
   "nbconvert_exporter": "python",
   "pygments_lexer": "ipython3",
   "version": "3.9.12"
  }
 },
 "nbformat": 4,
 "nbformat_minor": 5
}
