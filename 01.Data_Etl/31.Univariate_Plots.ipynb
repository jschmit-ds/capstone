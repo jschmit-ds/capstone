{
 "cells": [
  {
   "cell_type": "markdown",
   "id": "9bca4bcf-7ad1-4fbf-8e4b-e847ce9f6d04",
   "metadata": {},
   "source": [
    "### Analysis of Potential Model Features"
   ]
  },
  {
   "cell_type": "code",
   "execution_count": null,
   "id": "ecc686f8-b1a9-4c24-a533-8b8c915aba6b",
   "metadata": {},
   "outputs": [],
   "source": [
    "import pandas as pd\n",
    "from pandas.api.types import is_numeric_dtype\n",
    "\n",
    "import numpy as np\n",
    "from random import choices\n",
    "\n",
    "import matplotlib.pyplot as plt\n",
    "\n",
    "import seaborn as sns\n",
    "\n",
    "import boto3\n",
    "import awswrangler\n",
    "\n",
    "s3_bucket = 'traffic-data-bucket'\n"
   ]
  },
  {
   "cell_type": "code",
   "execution_count": null,
   "id": "3cbeb265-a7af-435f-9eb0-509a8c9d688d",
   "metadata": {},
   "outputs": [],
   "source": [
    "from aws_secrets import aws_access_key_id, aws_secret_access_key, aws_session_token\n",
    "\n",
    "my_session = boto3.Session(\n",
    "    aws_access_key_id=aws_access_key_id,\n",
    "    aws_secret_access_key=aws_secret_access_key,\n",
    "    aws_session_token = aws_session_token\n",
    "\n",
    ")"
   ]
  },
  {
   "cell_type": "code",
   "execution_count": null,
   "id": "11092939-4322-41a5-b988-5f49370098eb",
   "metadata": {},
   "outputs": [],
   "source": [
    "#model_df = pd.read_csv(root / 'X.data' / 'model_data' / 'model_data_post_transformation.csv')\n",
    "model_df = awswrangler.s3.read_parquet(path = f's3://traffic-data-bucket/model_data/model_data_post_transformation.parquet',\n",
    "                       boto3_session=my_session, use_threads=True\n",
    "                       )\n",
    "\n",
    "model_df.columns"
   ]
  },
  {
   "cell_type": "code",
   "execution_count": null,
   "id": "a0a99ffd-cf10-4a62-b3d6-d62c0fcf9652",
   "metadata": {},
   "outputs": [],
   "source": [
    "model_df = model_df[model_df.collision_year.isin([2015,2016,2017,2108,2109])]\n",
    "model_df.collision_year.unique()"
   ]
  },
  {
   "cell_type": "code",
   "execution_count": null,
   "id": "9d0f43d4-28c2-4a7c-8944-065d7eb1ae40",
   "metadata": {},
   "outputs": [],
   "source": [
    "model_df.target.value_counts()"
   ]
  },
  {
   "cell_type": "code",
   "execution_count": null,
   "id": "23c4f5eb-1edd-46cc-ae30-71fdf1471e30",
   "metadata": {
    "tags": []
   },
   "outputs": [],
   "source": [
    "def univ_plot(data, var):\n",
    "    fig=plt.figure(figsize=(10,5))\n",
    "    ax1 = fig.add_subplot(111)\n",
    "    ax2 = ax1.twinx()\n",
    "    \n",
    "    data = data.copy()\n",
    "    \n",
    "    grp_df = data.groupby(var).agg({'actual': ['mean', 'std', 'count']\n",
    "                                   })\n",
    "    \n",
    "    grp_df.columns = ['actual', 'actual_std', 'count']\n",
    "\n",
    "    max_actual = np.max(grp_df['actual'])\n",
    "    max_y = max_actual\n",
    "    \n",
    "    tall_df = pd.melt(grp_df.reset_index(), id_vars=var)  \n",
    "    \n",
    "    plt.tight_layout()\n",
    "    \n",
    "    #display(tall_df)\n",
    "    \n",
    "    count_mask = tall_df['variable'] == 'count'\n",
    "    bar_data = tall_df[count_mask].reset_index(drop = True)\n",
    "    #display(bar_data)\n",
    "\n",
    "    bar_data[var] = bar_data[var].apply(str)\n",
    "    #print(bar_data.dtypes)\n",
    "    \n",
    "    line_mask = tall_df['variable'].isin(['actual'])\n",
    "    line_data=tall_df[line_mask].reset_index(drop = True)\n",
    "    #display(line_data)\n",
    "\n",
    "    line_data[var] = line_data[var].apply(str)\n",
    "    #print(line_data.dtypes)\n",
    "    \n",
    "    bar = sns.barplot(x=var,\n",
    "                      y='value',\n",
    "                      data=bar_data,\n",
    "                      color='gray',\n",
    "                      ax=ax1)\n",
    "\n",
    "    line1 = sns.lineplot(x=var,\n",
    "                         y='value',\n",
    "                         data=line_data,\n",
    "                         marker='s',\n",
    "                         hue='variable',\n",
    "                         ax=ax2)\n",
    "    \n",
    "    handles, labels = ax2.get_legend_handles_labels()\n",
    "    \n",
    "    \n",
    "    ax2.legend(handles=handles, labels=labels)\n",
    "    ax2.set(ylim=(0, max_y*1.2))\n",
    "    \n",
    "    bar.set_xticklabels(bar.get_xticklabels(), rotation=45, horizontalalignment='right')\n",
    "    \n",
    "    bar.set_xlabel(\"\", fontsize = 12)\n",
    "    \n",
    "    bar.set_ylabel(\"Frequency\", fontsize = 12)\n",
    "    line1.set_ylabel(\"Probability of Collision\", fontsize = 12)\n",
    "    \n",
    "    title_string = (var)\n",
    "    #print(title_string)\n",
    "    \n",
    "    bar.set_title(title_string, fontsize=13, loc='left')\n",
    "    plt.gcf().set_size_inches(10, 5)\n",
    "    \n",
    "    return"
   ]
  },
  {
   "cell_type": "code",
   "execution_count": null,
   "id": "0318e9d6-a98e-4a64-a577-ccba20718713",
   "metadata": {},
   "outputs": [],
   "source": [
    "model_df['actual'] = model_df['target']\n",
    "model_df['drv_holiday_flag'].unique()"
   ]
  },
  {
   "cell_type": "code",
   "execution_count": null,
   "id": "a9de2675-d536-4618-bffd-64354b9889c2",
   "metadata": {},
   "outputs": [],
   "source": [
    "univ_plot(data = model_df, var = 'drv_holiday_flag')"
   ]
  },
  {
   "cell_type": "code",
   "execution_count": null,
   "id": "ab1c12c7-3f94-437e-a718-7e8db253b753",
   "metadata": {},
   "outputs": [],
   "source": [
    "import matplotlib.backends.backend_pdf\n",
    "pdf = matplotlib.backends.backend_pdf.PdfPages(\"pre-modeling_univariates.pdf\")\n",
    "vars_to_save = ['collision_month',\n",
    "       'collision_dayofweek', 'collision_hour', #'accident_count', 'ttv_split',\n",
    "       'node_street_count', 'node_stop', 'node_traffic_signals',\n",
    "       'la_data_city_name', 'edge_speed_kph_max', 'edge_speek_kph_min',\n",
    "       'edge_lanes_max', 'edge_motorway_flag', 'edge_motorway_link_flag',\n",
    "       'edge_living_street_flag', 'edge_bridge_flag', 'edge_oneway_flag',\n",
    "       'edge_tunnel_flag', 'amenities_bar_cnt', 'amenities_school_cnt',\n",
    "       'amenities_restaurant_cnt', 'amenities_college_cnt',\n",
    "       'prev1_yr_coll_cnt', 'prev2_yr_coll_cnt', 'prev1_yr_coll_neighbor1',\n",
    "       'prev1_yr_coll_neighbor2', 'prev2_yr_coll_neighbor1',\n",
    "       'prev2_yr_coll_neighbor2', 'noaa_wind_speed', 'noaa_precipitation',\n",
    "       'noaa_temperature_average', 'noaa_temperature_max',\n",
    "       'noaa_temperature_min', 'drv_collision_hour_sin',\n",
    "       'drv_collision_hour_cos', 'drv_holiday_flag',\n",
    "       'drv_edge_lanes_max_imputed_flag']\n",
    "for var in vars_to_save:\n",
    "    fig = univ_plot(data = model_df, var = var)\n",
    "    pdf.savefig(orientation = 'portrait')\n",
    "    \n",
    "pdf.close()\n",
    "\n"
   ]
  },
  {
   "cell_type": "code",
   "execution_count": null,
   "id": "d3bd33bc-56d9-4167-b60e-f77efc56e4a4",
   "metadata": {},
   "outputs": [],
   "source": []
  }
 ],
 "metadata": {
  "kernelspec": {
   "display_name": "Python 3 (ipykernel)",
   "language": "python",
   "name": "python3"
  },
  "language_info": {
   "codemirror_mode": {
    "name": "ipython",
    "version": 3
   },
   "file_extension": ".py",
   "mimetype": "text/x-python",
   "name": "python",
   "nbconvert_exporter": "python",
   "pygments_lexer": "ipython3",
   "version": "3.9.13"
  }
 },
 "nbformat": 4,
 "nbformat_minor": 5
}
