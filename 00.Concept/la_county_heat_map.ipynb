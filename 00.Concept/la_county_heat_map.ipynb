{
 "cells": [
  {
   "cell_type": "code",
   "execution_count": null,
   "id": "1f9841bf",
   "metadata": {},
   "outputs": [],
   "source": [
    "import geopandas as gpd\n",
    "from geopandas import GeoDataFrame\n",
    "import matplotlib.pyplot as plt\n",
    "import pandas as pd\n",
    "import numpy as np\n",
    "import osmnx as ox\n",
    "#import libpysal\n",
    "#import pyproj\n",
    "#from pyproj import CSR\n",
    "from tobler.util import h3fy\n",
    "from h3 import h3\n",
    "#import descartes\n",
    "\n",
    "from shapely.geometry import Point\n",
    "import contextily as ctx\n",
    "\n",
    "#import os\n",
    "from os.path import isfile, join\n",
    "from pathlib import Path\n",
    "from os import listdir\n",
    "import os\n",
    "os.getcwd()\n",
    "\n",
    "path =  Path(os.getcwd())\n",
    "root = path.parent.absolute()\n"
   ]
  },
  {
   "cell_type": "code",
   "execution_count": null,
   "id": "677ddfa9",
   "metadata": {},
   "outputs": [],
   "source": [
    "path"
   ]
  },
  {
   "cell_type": "code",
   "execution_count": null,
   "id": "049385d9-9a0e-4d88-b07c-cb01f6f82592",
   "metadata": {},
   "outputs": [],
   "source": [
    "root"
   ]
  },
  {
   "cell_type": "code",
   "execution_count": null,
   "id": "d29049ee",
   "metadata": {},
   "outputs": [],
   "source": [
    "crash_dir = root / 'X.data' / 'raw_data' / 'TIMS_raw_crashes_downloads'\n",
    "print(crash_dir)\n",
    "\n",
    "onlyfiles = [f for f in listdir(crash_dir) if isfile(join(crash_dir, f))]\n",
    "\n",
    "appended_data = []\n",
    "\n",
    "for file in onlyfiles:\n",
    "    print(file)\n",
    "    temp = pd.read_csv(crash_dir / file, low_memory = False)\n",
    "    appended_data.append(temp)\n",
    "\n",
    "collision_df = pd.concat(appended_data)\n",
    "collision_df.columns\n",
    "#collision_df.CITY.unique()"
   ]
  },
  {
   "cell_type": "code",
   "execution_count": null,
   "id": "2936adf3",
   "metadata": {},
   "outputs": [],
   "source": [
    "#collision_df = collision_df.mask(('ACCIDENT_YEAR' == 2018) and ('CITY' == 'Long Beach'))\n",
    "coll_18 = collision_df.query('ACCIDENT_YEAR == 2018')\n",
    "coll_18.sample()"
   ]
  },
  {
   "cell_type": "code",
   "execution_count": null,
   "id": "a14c5a14",
   "metadata": {},
   "outputs": [],
   "source": [
    "geometry = [Point(xy) for xy in zip(coll_18.POINT_X, coll_18.POINT_Y)]\n",
    "coll_2018_gdf = GeoDataFrame(coll_18, geometry=geometry)\n",
    "\n",
    "coll_2018_gdf.set_crs(epsg=4326, inplace=True).sample(2)"
   ]
  },
  {
   "cell_type": "code",
   "execution_count": null,
   "id": "c1e9cd71-cd97-432b-acb5-87e9afe7d2f2",
   "metadata": {},
   "outputs": [],
   "source": [
    "collision_df.ACCIDENT_YEAR.value_counts()"
   ]
  },
  {
   "cell_type": "code",
   "execution_count": null,
   "id": "a120c552",
   "metadata": {},
   "outputs": [],
   "source": [
    "base = coll_2018_gdf.to_crs(epsg=3857).plot(marker='o', color='blue', alpha = .02, markersize=5, figsize=(12, 16))\n",
    "\n",
    "ctx.add_basemap(base)\n",
    "plt.show()"
   ]
  },
  {
   "cell_type": "code",
   "execution_count": null,
   "id": "ccd8d4f0",
   "metadata": {},
   "outputs": [],
   "source": [
    "gdf_hex = gdf_hex.merge(gdf_hex_hwy[['hex_id', 'highway']], on ='hex_id', how = 'left')"
   ]
  },
  {
   "cell_type": "code",
   "execution_count": null,
   "id": "9808ac7c",
   "metadata": {},
   "outputs": [],
   "source": [
    "gdf_hex.sample()"
   ]
  },
  {
   "cell_type": "code",
   "execution_count": null,
   "id": "a52ae29f",
   "metadata": {},
   "outputs": [],
   "source": []
  }
 ],
 "metadata": {
  "kernelspec": {
   "display_name": "Python 3 (ipykernel)",
   "language": "python",
   "name": "python3"
  },
  "language_info": {
   "codemirror_mode": {
    "name": "ipython",
    "version": 3
   },
   "file_extension": ".py",
   "mimetype": "text/x-python",
   "name": "python",
   "nbconvert_exporter": "python",
   "pygments_lexer": "ipython3",
   "version": "3.9.13"
  }
 },
 "nbformat": 4,
 "nbformat_minor": 5
}
