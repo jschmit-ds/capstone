{
 "cells": [
  {
   "cell_type": "markdown",
   "id": "a2b6f0ed-a9f9-4e10-99a4-54a4d1789705",
   "metadata": {},
   "source": [
    "### GBM Notebook"
   ]
  },
  {
   "cell_type": "code",
   "execution_count": null,
   "id": "1701eef6-ec8a-4035-a476-b63dcf8f7e5c",
   "metadata": {},
   "outputs": [],
   "source": [
    "#!pip install catboost"
   ]
  },
  {
   "cell_type": "code",
   "execution_count": null,
   "id": "c93a285b-3a27-4158-873b-85b6de4eee98",
   "metadata": {},
   "outputs": [],
   "source": [
    "import pandas as pd\n",
    "from pandas.api.types import is_numeric_dtype\n",
    "from pandas.api.types import is_integer_dtype\n",
    "\n",
    "import numpy as np\n",
    "\n",
    "import catboost as cb\n",
    "from catboost import CatBoostClassifier\n",
    "\n",
    "from sklearn.metrics import roc_auc_score\n",
    "\n",
    "# Suppress all warnings\n",
    "import warnings\n",
    "warnings.filterwarnings('ignore')\n",
    "\n",
    "import matplotlib.pyplot as plt\n",
    "import seaborn as sns\n",
    "\n",
    "import boto3\n",
    "import awswrangler\n",
    "\n",
    "s3_bucket = 'traffic-data-bucket'\n"
   ]
  },
  {
   "cell_type": "code",
   "execution_count": null,
   "id": "9d78c112-6e8e-4343-94f4-3dac6c33af1b",
   "metadata": {},
   "outputs": [],
   "source": [
    "from aws_secrets import aws_access_key_id, aws_secret_access_key, aws_session_token\n",
    "\n",
    "my_session = boto3.Session(\n",
    "    aws_access_key_id=aws_access_key_id,\n",
    "    aws_secret_access_key=aws_secret_access_key,\n",
    "    aws_session_token = aws_session_token\n",
    "\n",
    ")"
   ]
  },
  {
   "cell_type": "code",
   "execution_count": null,
   "id": "d8b4a2ea-390b-4818-a1f7-e758a231d18e",
   "metadata": {},
   "outputs": [],
   "source": [
    "df = awswrangler.s3.read_parquet(path = f's3://{s3_bucket}/model_data/model_data_post_transformation.parquet', boto3_session=my_session, use_threads=True)"
   ]
  },
  {
   "cell_type": "code",
   "execution_count": null,
   "id": "2c6c4239-ef8e-4f2b-a476-6c8716f72587",
   "metadata": {},
   "outputs": [],
   "source": [
    "df.collision_year.unique()"
   ]
  },
  {
   "cell_type": "code",
   "execution_count": null,
   "id": "eb21810a-6f41-4cc7-92ba-af849a9ff316",
   "metadata": {},
   "outputs": [],
   "source": [
    "def get_categorical_indicies(X):\n",
    "    cats = []\n",
    "    for col in X.columns:\n",
    "        #print(col)\n",
    "        if is_numeric_dtype(X[col]):\n",
    "            pass\n",
    "        else:\n",
    "            cats.append(col)\n",
    "    cat_indicies = []\n",
    "    for col in cats:\n",
    "        #print(col)\n",
    "        cat_indicies.append(X.columns.get_loc(col))\n",
    "        #print(X.columns.get_loc(col))\n",
    "    return cat_indicies\n",
    "#categorical_indicies = get_categorical_indicies(X)"
   ]
  },
  {
   "cell_type": "code",
   "execution_count": null,
   "id": "25624f85-05db-4727-a02e-87de919a603f",
   "metadata": {},
   "outputs": [],
   "source": [
    "def convert_cats(X_frame):\n",
    "    cats = []\n",
    "    for col in X_frame.columns:\n",
    "        if is_numeric_dtype(X_frame[col]):\n",
    "            pass\n",
    "        else:\n",
    "            cats.append(col)\n",
    "    cat_indicies = []\n",
    "    for col in cats:\n",
    "        X_frame[col] = X_frame[col].astype('category')\n",
    "    return X_frame"
   ]
  },
  {
   "cell_type": "code",
   "execution_count": null,
   "id": "2be35510-841c-4c1b-8da6-45a4c3676425",
   "metadata": {},
   "outputs": [],
   "source": [
    "def convert_int_to_float(X_frame):\n",
    "    ints = []\n",
    "    for col in X_frame.columns:\n",
    "        if is_integer_dtype(X_frame[col]):\n",
    "            ints.append(col)\n",
    "    for col in ints:\n",
    "        X_frame[col] = X_frame[col].astype('float')\n",
    "    return X_frame"
   ]
  },
  {
   "cell_type": "code",
   "execution_count": null,
   "id": "c1c0483e-6ef6-4ee9-b242-decbe0849f65",
   "metadata": {},
   "outputs": [],
   "source": [
    "#initialize\n",
    "collision_year_list = [2015, 2016, 2017, 2018, 2019]\n",
    "\n",
    "\n",
    "street_features = ['la_data_city_name', \n",
    "                     'node_street_count', 'node_stop', 'node_traffic_signals',\n",
    "                     'edge_speed_kph_max', 'edge_speek_kph_min',\n",
    "                     'edge_lanes_max', 'edge_motorway_flag', 'edge_motorway_link_flag',\n",
    "                     'edge_living_street_flag', 'edge_bridge_flag', 'edge_oneway_flag',\n",
    "                     'edge_tunnel_flag', 'amenities_bar_cnt', 'amenities_school_cnt',\n",
    "                     'amenities_restaurant_cnt', 'amenities_college_cnt',\n",
    "                     'drv_edge_lanes_max_imputed_flag']\n",
    "\n",
    "time_features = ['drv_collision_hour_sin','drv_collision_hour_cos',\n",
    "                 'collision_month', 'collision_dayofweek', 'drv_holiday_flag'\n",
    "                ]\n",
    "\n",
    "hex_history_features = ['prev1_yr_coll_cnt', 'prev1_yr_coll_neighbor1']\n",
    "\n",
    "weather_features = ['noaa_wind_speed', 'noaa_precipitation',\n",
    "                    'noaa_temperature_average', 'noaa_temperature_max',\n",
    "                    'noaa_temperature_min']\n",
    "\n",
    "\n",
    "model_features = street_features +  time_features + hex_history_features +  weather_features\n"
   ]
  },
  {
   "cell_type": "markdown",
   "id": "6747bb71-f6e6-4755-ac50-aea3a70b8ccb",
   "metadata": {},
   "source": [
    "argument\tdescription\n",
    "* iterations=500\tThe maximum number of trees that can be built when solving machine learning problems. Fewer may be used.\n",
    "* learning_rate=0.03\tused for reducing the gradient step. It affects the overall time of training: the smaller the value, the more iterations are required for training.\n",
    "* depth=6\tDepth of the tree. Can be any integer up to 32. Good values in the range 1 - 10.\n",
    "* l2_leaf_reg=3\ttry different values for the regularizer to find the best possible. Any positive values are allowed.\n",
    "* border_count=32\tThe number of splits for numerical features. Allowed values are integers from 1 to 255 inclusively."
   ]
  },
  {
   "cell_type": "code",
   "execution_count": null,
   "id": "7ee616fe-e230-4069-bba4-34f62744fa4e",
   "metadata": {},
   "outputs": [],
   "source": [
    "param_grid = {'depth':[12],\n",
    "          'iterations':[400],\n",
    "          'learning_rate':[0.2], \n",
    "          'l2_leaf_reg':[10],\n",
    "          'border_count':[40]}"
   ]
  },
  {
   "cell_type": "code",
   "execution_count": null,
   "id": "397d96e6-6d81-4d97-86e2-c7d094117a30",
   "metadata": {},
   "outputs": [],
   "source": [
    "df = df[df.collision_year != 2014]\n",
    "df.collision_year.unique()"
   ]
  },
  {
   "cell_type": "code",
   "execution_count": null,
   "id": "fcc6a4e3-f46d-4236-92cc-926c67db15ab",
   "metadata": {},
   "outputs": [],
   "source": [
    "#df['collision_month'] = df['collision_month'].map(str)\n",
    "#df['collision_dayofweek'] = df['collision_dayofweek'].map(str)\n",
    "#df['collision_year'] = df['collision_year'].map(str)"
   ]
  },
  {
   "cell_type": "code",
   "execution_count": null,
   "id": "06ff8562-b9cc-4a10-8cb8-79d737db9bdb",
   "metadata": {},
   "outputs": [],
   "source": [
    "df.la_data_city_name = pd.Categorical(df.la_data_city_name)\n",
    "df['la_data_city_name'] = df['la_data_city_name'].cat.codes\n",
    "df['la_data_city_name'] = df['la_data_city_name'].map(str)"
   ]
  },
  {
   "cell_type": "code",
   "execution_count": null,
   "id": "26436f43-6080-4ab8-869e-507116b1a404",
   "metadata": {},
   "outputs": [],
   "source": [
    "df_caps = df.copy()"
   ]
  },
  {
   "cell_type": "code",
   "execution_count": null,
   "id": "8271acf5-c269-4f84-a4e8-6f59b9433f11",
   "metadata": {},
   "outputs": [],
   "source": [
    "df_caps.edge_lanes_max = df_caps.edge_lanes_max.clip(upper=8)\n",
    "df_caps.node_traffic_signals = df_caps.node_traffic_signals.clip(upper=13)\n",
    "df_caps.node_street_count = df_caps.node_street_count.clip(upper=6)\n",
    "df_caps.node_stop = df_caps.node_stop.clip(upper=20)\n",
    "df_caps.amenities_bar_cnt = df_caps.amenities_bar_cnt.clip(upper=2)\n",
    "df_caps.amenities_school_cnt = df_caps.amenities_school_cnt.clip(upper=3)\n",
    "df_caps.amenities_restaurant_cnt = df_caps.amenities_restaurant_cnt.clip(upper=3)\n",
    "df_caps.amenities_college_cnt = df_caps.amenities_college_cnt.clip(upper=1)\n",
    "\n",
    "df_caps.prev1_yr_coll_cnt = df_caps.prev1_yr_coll_cnt.clip(upper=70)\n",
    "df_caps.prev1_yr_coll_neighbor1 = df_caps.prev1_yr_coll_neighbor1.clip(upper=350)\n",
    "df_caps.prev1_yr_coll_neighbor1 = df_caps.prev1_yr_coll_neighbor1.divide(7)\n",
    "df_caps.prev1_yr_coll_neighbor1 = df_caps.prev1_yr_coll_neighbor1.round()"
   ]
  },
  {
   "cell_type": "code",
   "execution_count": null,
   "id": "b8cace52-3a1e-4f04-af62-4f5d544e8bf2",
   "metadata": {},
   "outputs": [],
   "source": [
    "model_features.remove('noaa_precipitation')\n",
    "model_features.remove('noaa_temperature_max')\n",
    "model_features.remove('noaa_temperature_average')\n",
    "model_features.remove('edge_speek_kph_min')\n",
    "model_features.remove('edge_living_street_flag')"
   ]
  },
  {
   "cell_type": "code",
   "execution_count": null,
   "id": "83521d72-3557-440a-a6e7-fbfd26a5ee84",
   "metadata": {},
   "outputs": [],
   "source": [
    "#v5 try isolating the training window\n",
    "train_df = df_caps[(df_caps.ttv_split == 'Train')]\n",
    "train_df = train_df[train_df.collision_year != 2020]\n",
    "\n",
    "test_df = df_caps[(df_caps.ttv_split == 'Test')]\n",
    "test_df = test_df[test_df.collision_year != 2020]\n",
    "\n",
    "all_df = df_caps.copy()"
   ]
  },
  {
   "cell_type": "code",
   "execution_count": null,
   "id": "c428c0c8-3ae4-4f43-9a41-72514f28c549",
   "metadata": {},
   "outputs": [],
   "source": [
    "X_train = train_df[model_features]\n",
    "X_test = test_df[model_features]\n",
    "X_all = all_df[model_features]\n",
    "y_train = train_df['target']\n",
    "y_test = test_df['target']"
   ]
  },
  {
   "cell_type": "code",
   "execution_count": null,
   "id": "d1d2eaba-aa67-40d1-b830-9f2cc74ebafc",
   "metadata": {},
   "outputs": [],
   "source": [
    "X_train['drv_holiday_flag'] = X_train['drv_holiday_flag'].astype(float)\n",
    "X_test['drv_holiday_flag'] = X_test['drv_holiday_flag'].astype(float)\n",
    "X_all['drv_holiday_flag'] = X_all['drv_holiday_flag'].astype(float)"
   ]
  },
  {
   "cell_type": "code",
   "execution_count": null,
   "id": "b810d2ac-2ec8-49fa-b98b-0a41acde1145",
   "metadata": {},
   "outputs": [],
   "source": [
    "pd.options.display.max_columns = None\n",
    "X_train.sample(2)"
   ]
  },
  {
   "cell_type": "code",
   "execution_count": null,
   "id": "706ea32f-b07c-449f-9c8b-2808e9127a46",
   "metadata": {},
   "outputs": [],
   "source": [
    "categorical_indicies = get_categorical_indicies(X_train)\n",
    "X_train = convert_cats(X_train)\n",
    "X_test = convert_cats(X_test)\n",
    "X_all = convert_cats(X_all)"
   ]
  },
  {
   "cell_type": "code",
   "execution_count": null,
   "id": "d89d25d4-a061-4ce4-b753-6685248f9d55",
   "metadata": {},
   "outputs": [],
   "source": [
    "X_test = convert_int_to_float(X_test)\n",
    "X_train = convert_int_to_float(X_train)\n",
    "X_all = convert_int_to_float(X_all)"
   ]
  },
  {
   "cell_type": "code",
   "execution_count": null,
   "id": "10a6806b-df16-48d9-a0e9-d5a1d7c61275",
   "metadata": {},
   "outputs": [],
   "source": [
    "#X_train.dtypes"
   ]
  },
  {
   "cell_type": "code",
   "execution_count": null,
   "id": "7d8425ed-12c4-4866-b8ce-d4209d5113b7",
   "metadata": {},
   "outputs": [],
   "source": [
    "train_dataset = cb.Pool(X_train[model_features],y_train, cat_features=np.array(categorical_indicies))\n",
    "test_dataset = cb.Pool(X_test[model_features],y_test, cat_features=np.array(categorical_indicies))"
   ]
  },
  {
   "cell_type": "code",
   "execution_count": null,
   "id": "027c85ff-9018-478c-ae23-280d8f7d8285",
   "metadata": {},
   "outputs": [],
   "source": [
    "model = cb.CatBoostRegressor(loss_function='RMSE', eval_metric='AUC:hints=skip_train~false', silent=True, metric_period=50)\n",
    "\n",
    "model.grid_search(param_grid,train_dataset,verbose=False)"
   ]
  },
  {
   "cell_type": "code",
   "execution_count": null,
   "id": "35a88faa-67ba-4aa3-b716-90e88f239fa9",
   "metadata": {},
   "outputs": [],
   "source": [
    "import matplotlib.pyplot as plt\n",
    "import seaborn as sns\n",
    "\n",
    "def plot_feature_importance(importance,names,model_type):\n",
    "\n",
    "    #Create arrays from feature importance and feature names\n",
    "    feature_importance = np.array(importance)\n",
    "    feature_names = np.array(names)\n",
    "    \n",
    "    #Create a DataFrame using a Dictionary\n",
    "    data={'feature_names':feature_names,'feature_importance':feature_importance}\n",
    "    fi_df = pd.DataFrame(data)\n",
    "    \n",
    "    #Sort the DataFrame in order decreasing feature importance\n",
    "    fi_df.sort_values(by=['feature_importance'], ascending=False,inplace=True)\n",
    "    \n",
    "    #Define size of bar plot\n",
    "    plt.figure(figsize=(10,8))\n",
    "    #Plot Searborn bar chart\n",
    "    sns.barplot(x=fi_df['feature_importance'], \n",
    "                y=fi_df['feature_names'],\n",
    "                color=sns.color_palette(\"Set2\")[7]\n",
    "                )\n",
    "    #Add chart labels\n",
    "    plt.title(model_type + 'FEATURE IMPORTANCE')\n",
    "    plt.xlabel('FEATURE IMPORTANCE')\n",
    "    plt.ylabel('FEATURE NAMES')"
   ]
  },
  {
   "cell_type": "code",
   "execution_count": null,
   "id": "cc61da5e-5902-41a0-a57d-d01f9be6f2c9",
   "metadata": {},
   "outputs": [],
   "source": [
    "plot_feature_importance(model.get_feature_importance(),X_train.columns,'CATBOOST ')"
   ]
  },
  {
   "cell_type": "code",
   "execution_count": null,
   "id": "962181bb-c8f5-4617-8301-b0251894a7aa",
   "metadata": {},
   "outputs": [],
   "source": [
    "predictions = model.predict(X_all)"
   ]
  },
  {
   "cell_type": "code",
   "execution_count": null,
   "id": "558433a5-0ece-4cca-9619-1abd3407fad8",
   "metadata": {},
   "outputs": [],
   "source": [
    "df['prediction'] = predictions"
   ]
  },
  {
   "cell_type": "code",
   "execution_count": null,
   "id": "c01bd0d6-fb09-4f7a-9fcc-32b76b1346df",
   "metadata": {},
   "outputs": [],
   "source": [
    "df_output = df[['hex_id', 'collision_date', 'collision_hour', 'ttv_split', 'prediction']]"
   ]
  },
  {
   "cell_type": "code",
   "execution_count": null,
   "id": "2470c796-eda9-4185-9312-b461b8577082",
   "metadata": {},
   "outputs": [],
   "source": [
    "df_output.sample(5)"
   ]
  },
  {
   "cell_type": "code",
   "execution_count": null,
   "id": "273a91c4-dc67-4070-a6d3-2c2ab0a97f3c",
   "metadata": {},
   "outputs": [],
   "source": [
    "roc_auc_score(y_test.astype(int), model.predict(X_test))\n",
    "#0.7885608825082839"
   ]
  },
  {
   "cell_type": "code",
   "execution_count": null,
   "id": "6f8f4a9b-bc1e-447c-b53e-238f0d0b94e0",
   "metadata": {},
   "outputs": [],
   "source": [
    "model_name = \"GBM_06\"\n",
    "df_output['model_name'] = model_name\n",
    "\n",
    "awswrangler.s3.to_csv(df=df_output, path = f\"s3://{s3_bucket}/model_scoring/individual_model_scores/{model_name}.csv\", index=False,\n",
    "                       boto3_session=my_session, use_threads=True\n",
    "                       )"
   ]
  },
  {
   "cell_type": "code",
   "execution_count": null,
   "id": "f55972a1-5f9a-4a21-84fc-0d12639886af",
   "metadata": {},
   "outputs": [],
   "source": []
  }
 ],
 "metadata": {
  "kernelspec": {
   "display_name": "Python 3 (ipykernel)",
   "language": "python",
   "name": "python3"
  },
  "language_info": {
   "codemirror_mode": {
    "name": "ipython",
    "version": 3
   },
   "file_extension": ".py",
   "mimetype": "text/x-python",
   "name": "python",
   "nbconvert_exporter": "python",
   "pygments_lexer": "ipython3",
   "version": "3.9.13"
  }
 },
 "nbformat": 4,
 "nbformat_minor": 5
}
